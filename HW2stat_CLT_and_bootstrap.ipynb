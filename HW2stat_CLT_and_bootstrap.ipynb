{
 "cells": [
  {
   "cell_type": "markdown",
   "metadata": {},
   "source": [
    "### **Задание 1**"
   ]
  },
  {
   "cell_type": "markdown",
   "metadata": {},
   "source": [
    "Дано: $\\mathbb{E}(X)=\\mu$, $Var(X)=\\sigma^2 < \\infty$"
   ]
  },
  {
   "cell_type": "markdown",
   "metadata": {},
   "source": [
    "Неравенство Чебышёва для X и a > 0: $P(|X-\\mu|\\ge a) \\le \\frac{\\sigma^2}{a^2}$.\n",
    "\n",
    "Если $a = 2\\sigma$, то \\\n",
    "$P(|X-\\mu|\\ge 2\\sigma) \\le \\frac{\\sigma^2}{(2\\sigma)^2}$ => $P(|X-\\mu|\\ge 2\\sigma) \\le \\frac{1}{4}$\n",
    "\n",
    "С другой стороны,\\\n",
    "$P(|X-\\mu|\\le 2\\sigma) = 1 - P(|X-\\mu|\\ge 2\\sigma)$, или\\\n",
    "$P(-2\\sigma\\le X-\\mu \\le 2\\sigma) = 1 - P(|X-\\mu|\\ge 2\\sigma)$, или\\\n",
    "$P(\\mu-2\\sigma\\le X \\le \\mu+2\\sigma) = 1 - P(|X-\\mu|\\ge 2\\sigma)$\n",
    "\n",
    "Учитывая вывод из неравенства Чебышёва,\\\n",
    "$P(\\mu-2\\sigma\\le X \\le \\mu+2\\sigma) \\ge 1 - \\frac{1}{4}$, т.е.\\\n",
    "$P(\\mu-2\\sigma\\le X \\le \\mu+2\\sigma) \\ge \\frac{3}{4}$.\n",
    "\n",
    "\n",
    "Если $a = 3\\sigma$, то \\\n",
    "$P(|X-\\mu|\\ge 3\\sigma) \\le \\frac{\\sigma^2}{(3\\sigma)^2}$ => $P(|X-\\mu|\\ge 3\\sigma) \\le \\frac{1}{9}$\n",
    "\n",
    "С другой стороны,\\\n",
    "$P(|X-\\mu|\\le 3\\sigma) = 1 - P(|X-\\mu|\\ge 3\\sigma)$, или\\\n",
    "$P(-3\\sigma\\le X-\\mu \\le 3\\sigma) = 1 - P(|X-\\mu|\\ge 3\\sigma)$, или\\\n",
    "$P(\\mu-3\\sigma\\le X \\le \\mu+3\\sigma) = 1 - P(|X-\\mu|\\ge 3\\sigma)$\n",
    "\n",
    "Учитывая вывод из неравенства Чебышёва,\\\n",
    "$P(\\mu-3\\sigma\\le X \\le \\mu+3\\sigma) \\ge 1 - \\frac{1}{9}$, т.е.\\\n",
    "$P(\\mu-3\\sigma\\le X \\le \\mu+3\\sigma) \\ge \\frac{8}{9}$."
   ]
  },
  {
   "cell_type": "markdown",
   "metadata": {},
   "source": [
    "Для $X$ ~ $N(0,1)$:\\\n",
    "$P(\\mu-2\\sigma\\le X \\le \\mu+2\\sigma) = P(-2 \\le X \\le 2) = 2*\\Phi(2) - 1 = 2*0.9772 - 1 = 0.9544$\\\n",
    "$P(\\mu-3\\sigma\\le X \\le \\mu+3\\sigma) = P(-3 \\le X \\le 3) = 2*\\Phi(3) - 1 = 2*0.9987 - 1 = 0.9974$\n",
    "\n",
    "Результаты вполне укладываются в выводы из неравенства Чебышёва - просто неравенство Чебышёва даёт нижнюю оценку вероятности того, что случайная величина будет лежать в определённом интервале, а зная конкретное распределение, мы можем более точным образом эту вероятность оценить."
   ]
  },
  {
   "cell_type": "markdown",
   "metadata": {},
   "source": [
    "### **Задание 2**"
   ]
  },
  {
   "cell_type": "markdown",
   "metadata": {},
   "source": [
    "1)\n",
    "\n",
    "Функция распределения для $x_1,...x_n$ из равномерного распределения на отрезке $[0,\\theta]$ имеет вид:\\\n",
    "$F_\\theta(w) = \\begin{cases} 0,& w < 0 \\\\ w/\\theta,&w \\in [0,1] \\\\ 1,& w > 1 \\end{cases}$\n",
    "\n",
    "Функция распределения для $\\hat\\theta_1 = max(x_1,...x_n)$ будет иметь вид:\\\n",
    "$F_{\\hat\\theta_1}(z) = P(\\hat\\theta_1 < z) = P(max(x_1,...,x_n) < z) = P(x_1 < z,...,x_n < z) = (P(x_1 < z))^n = (F_\\theta(z))^n = \\begin{cases} 0,& z < 0 \\\\ (z/\\theta)^n,&z \\in [0,1] \\\\ 1,& z > 1 \\end{cases}$\n",
    "\n",
    "Эта функция зависит от $\\theta$ - чтобы избавиться от этой зависимости, разделить $\\hat\\theta_1$ на $\\theta$ - и тогда $\\frac{\\hat\\theta_1}{\\theta}$ будет иметь распределение вида $F_{\\frac{\\hat\\theta_1}{\\theta}}(u) = \\begin{cases} 0,& u < 0 \\\\ u^n,&u \\in [0,1] \\\\ 1,& u > 1 \\end{cases}$ (выводится аналогичным выше изложенному образу способом и дана в условии задачи."
   ]
  },
  {
   "cell_type": "markdown",
   "metadata": {},
   "source": [
    "Для выбранного уровня доверия $\\alpha$ найдём квантили этого распределения $c_1$ и $c_2$, соответствующие таким числам $\\alpha_1$ и $\\alpha_2$ из интервала [0,1], что $F_{\\frac{\\hat\\theta_1}{\\theta}}(c_1) = \\alpha_1$ и $F_{\\frac{\\hat\\theta_1}{\\theta}}(c_2) = 1 - \\alpha_2$, при этом $\\alpha_1 + \\alpha_2 = 1 - \\alpha$.\\\n",
    "$F_{\\frac{\\hat\\theta_1}{\\theta}}(c_1) = c_1^n \\Rightarrow c_1^n = \\alpha_1 \\Rightarrow c_1 = \\sqrt[n]{\\alpha_1}$,\\\n",
    "$F_{\\frac{\\hat\\theta_1}{\\theta}}(c_2) = c_2^n \\Rightarrow c_2^n = 1-\\alpha_2 \\Rightarrow c_2 = \\sqrt[n]{1-\\alpha_2}$"
   ]
  },
  {
   "cell_type": "markdown",
   "metadata": {},
   "source": [
    "Получаем: $c_1 \\le \\frac{\\hat\\theta_1}{\\theta} \\le c_2 \\Rightarrow$\\\n",
    "$\\sqrt[n]{\\alpha_1} \\le \\frac{\\hat\\theta_1}{\\theta} \\le \\sqrt[n]{1-\\alpha_2} \\Rightarrow $\\\n",
    "$\\frac{1}{\\sqrt[n]{\\alpha_1}} \\ge \\frac{\\theta}{\\hat\\theta_1} \\ge \\frac{1}{\\sqrt[n]{1-\\alpha_2}} \\Rightarrow $\\\n",
    "$\\frac{\\hat\\theta_1}{\\sqrt[n]{1-\\alpha_1}} \\le \\theta \\le \\frac{\\hat\\theta_1}{\\sqrt[n]{\\alpha_2}} \\Rightarrow $\\\n",
    "$\\frac{max(x_1,...,x_n)}{\\sqrt[n]{1-\\alpha_2}} \\le \\theta \\le \\frac{max(x_1,...,x_n)}{\\sqrt[n]{\\alpha_1}}$ - искомый точный доверительный интервал для $\\theta$ с уровнем доверия $1-\\alpha$. Можно взять $\\alpha_1 = \\alpha_2 = \\alpha/2$, но я оставлю в общем виде."
   ]
  },
  {
   "cell_type": "markdown",
   "metadata": {},
   "source": [
    "2)\n",
    "\n",
    "Согласно центральной предельной теореме, при $n \\to \\infty$ сумма независимых одинаково распределённых случайных величин $x_1,...x_n$ имеет распределение, близкое к $N(n\\mu,n\\sigma^2)$, где $\\mu$ - это математическое ожидание, а $\\sigma^2$ - дисперсия распределения $x_1, ... x_n$. Тогда распределение $2\\sum\\limits_{i=1}^n x_i \\to N(2n\\mu, 2n\\sigma^2)$ при $n \\to \\infty$. Отсюда распределение $2\\bar{x}=\\frac{2}{n}\\sum\\limits_{i=1}^n x_i \\to N(2\\mu, \\frac{2}{n}\\sigma^2)$ при $n \\to \\infty$.\n",
    "\n",
    "Тогда распределение $\\frac{2\\bar{x}-2\\mu}{\\sqrt{\\frac{2\\sigma^2}{n}}} \\to N(0, 1)$ при $n \\to \\infty$.\n",
    "\n",
    "В нашем случае $\\mu=\\frac{\\theta}{2}$, $\\sigma^2=\\frac{\\theta^2}{12}$, поэтому $\\frac{2\\bar{x}-2\\mu}{\\sqrt{\\frac{2\\sigma^2}{n}}} = \\frac{2\\bar{x} - 2\\theta/2}{\\sqrt{\\frac{2\\theta^2}{12n}}} = \\sqrt{6n}(\\frac{2\\bar{x}}{\\theta}-1)$ и при $n \\to \\infty$ эта величина распределена как $N(0,1)$."
   ]
  },
  {
   "cell_type": "markdown",
   "metadata": {},
   "source": [
    "Для стандартного нормального распредеделения удобнее взять квантили $c_1$ и $c_2$ такими, чтобы $\\Phi(c_1) = 1-\\Phi(c_2) = \\alpha/2$ (так доверительный интервал будет уже и будет симметричным). Тогда $c_2 = \\Phi^{-1}(1-\\alpha/2)$, $c_1 = -c_2 = - \\Phi^{-1}(1-\\alpha/2)$."
   ]
  },
  {
   "cell_type": "markdown",
   "metadata": {},
   "source": [
    "Тогда при $n \\to \\infty$:\\\n",
    "$c_1 \\le \\sqrt{6n}(\\frac{2\\bar{x}}{\\theta}-1) \\le c_2 \\Rightarrow$\\\n",
    "$-\\Phi^{-1}(1-\\alpha/2) \\le \\sqrt{6n}(\\frac{2\\bar{x}}{\\theta}-1) \\le \\Phi^{-1}(1-\\alpha/2) \\Rightarrow$\\\n",
    "$-\\frac{\\Phi^{-1}(1-\\alpha/2)}{\\sqrt{6n}}+1 \\le \\frac{2\\bar{x}}{\\theta} \\le \\frac{\\Phi^{-1}(1-\\alpha/2)}{\\sqrt{6n}}+1 \\Rightarrow$\\\n",
    "$\\frac{1}{-\\frac{\\Phi^{-1}(1-\\alpha/2)}{\\sqrt{6n}}+1} \\ge \\frac{\\theta}{2\\bar{x}} \\ge \\frac{1}{\\frac{\\Phi^{-1}(1-\\alpha/2)}{\\sqrt{6n}}+1} \\Rightarrow$\\\n",
    "$\\frac{2\\bar{x}}{\\frac{\\Phi^{-1}(1-\\alpha/2)}{\\sqrt{6n}}+1} \\le \\theta \\le \\frac{2\\bar{x}}{\\frac{-\\Phi^{-1}(1-\\alpha/2)}{\\sqrt{6n}}+1}$, где $\\Phi(t)$ - функция распределения стандартной нормальной величины, - это и будет искомый асимптотический доверительный интервал для $\\theta$ с уровнем доверия $1-\\alpha$."
   ]
  },
  {
   "cell_type": "markdown",
   "metadata": {},
   "source": [
    "### **Задание 3**"
   ]
  },
  {
   "cell_type": "markdown",
   "metadata": {},
   "source": [
    "Пусть в рамках параметрического бутстрэпа мы сделали $M$ бустрэповских выборок из равномерного распределения на отрезке $[0,2\\bar{x}]$, то есть в каждой $j$-ой бустрэповской выборке у нас будут случайные величины $y_1^{(j)},...,y_n^{(j)}$, равномерно распределённые на отрезке $[0,2\\bar{x}]$. \n",
    "\n",
    "Учитывая подсказку, данную в задании, $\\mathbb{E}[Y^{(j)}] = 2\\bar{x}\\mathbb{E}[R^{(j)}] = 2\\bar{x}*\\frac{1}{2} = \\bar{x}$,\\\n",
    "$Var[Y^{(j)}] = (2\\bar{x})^2 Var[R^{(j)}] = 4\\bar{x}^2*\\frac{1}{12} = \\frac{\\bar{x}^2}{3}$."
   ]
  },
  {
   "cell_type": "markdown",
   "metadata": {},
   "source": [
    "Дисперсия равномерного распределения на отрезке $[0, \\theta]$ равна $\\frac{\\theta^2}{12}$. Если мы подставим в эту формулу оценку для $\\hat\\theta$, то получим ровно то же самое значение дисперсии, которое мы посчитали выше. Если же истинное значение $\\theta$ отклоняется от полученной оценки в бОльшую или меньшую сторону, то и дисперсия будет отклоняться в Большую или меньшую сторону, причем величина отклонения для дисперсии будет возрастать как квадратичная функция от разницы между теоретическим значением $\\theta$ и выбранной оценкой."
   ]
  },
  {
   "cell_type": "markdown",
   "metadata": {},
   "source": [
    "Если честно, я вообще не очень поняла это задание."
   ]
  },
  {
   "cell_type": "markdown",
   "metadata": {},
   "source": [
    "### **Задание 4**"
   ]
  },
  {
   "cell_type": "code",
   "execution_count": 8,
   "metadata": {},
   "outputs": [],
   "source": [
    "import numpy as np\n",
    "import pandas as pd\n",
    "from IPython.display import display, Math\n",
    "from scipy import stats"
   ]
  },
  {
   "cell_type": "markdown",
   "metadata": {},
   "source": [
    "1) Сгенерируем $\\theta$ из равномерного распределения на отрезке [10, 20]  и $\\sigma$ из равномерного распределения на отрезке [1, 2]:"
   ]
  },
  {
   "cell_type": "code",
   "execution_count": 2,
   "metadata": {},
   "outputs": [
    {
     "data": {
      "text/latex": [
       "$\\displaystyle \\theta = [16.96469186], \\sigma = [1.28613933]$"
      ],
      "text/plain": [
       "<IPython.core.display.Math object>"
      ]
     },
     "metadata": {},
     "output_type": "display_data"
    }
   ],
   "source": [
    "np.random.seed(123)\n",
    "theta = np.random.uniform(10, 20, 1)\n",
    "sigma = np.random.uniform(1, 2, 1)\n",
    "display(Math('\\\\theta = {}, \\\\sigma = {}'.format(theta, sigma)))"
   ]
  },
  {
   "cell_type": "markdown",
   "metadata": {},
   "source": [
    "2. Сгенерируем выборку размера 50 из нормального распределения $N(\\theta,\\sigma^2)$:"
   ]
  },
  {
   "cell_type": "code",
   "execution_count": 3,
   "metadata": {},
   "outputs": [],
   "source": [
    "np.random.seed(123)\n",
    "sample = np.random.normal(theta, sigma, size=50)"
   ]
  },
  {
   "cell_type": "markdown",
   "metadata": {},
   "source": [
    "3.1. Теоретический 95%-ный доверительный интервал для $\\theta$:"
   ]
  },
  {
   "cell_type": "code",
   "execution_count": 4,
   "metadata": {},
   "outputs": [
    {
     "data": {
      "text/latex": [
       "$\\displaystyle \\text{Теоретический 95\\%-ный доверительный интервал для }\\theta: [[16.62526769], [17.33825386]]$"
      ],
      "text/plain": [
       "<IPython.core.display.Math object>"
      ]
     },
     "metadata": {},
     "output_type": "display_data"
    }
   ],
   "source": [
    "q_n = stats.norm.ppf(1-0.05/2)\n",
    "ci_1 = [np.mean(sample) - q_n * sigma/ np.sqrt(50), np.mean(sample) + q_n * sigma/ np.sqrt(50)]\n",
    "display(Math('\\\\text{{Теоретический 95\\%-ный доверительный интервал для }}\\\\theta: [{}, {}]'.format(ci_1[0], ci_1[1])))"
   ]
  },
  {
   "cell_type": "markdown",
   "metadata": {},
   "source": [
    "3.2. 95%-ный доверительный интервал для $\\theta$ на основе параметрического бутстрэпа:\n",
    "\n",
    "- в качестве оценки для $\\theta$ будем использовать среднее значение по выборке,\n",
    "- будем считать, что дисперсия нам известна и она равна $\\sigma$;\n",
    "- сделаем 50 бустрэповских выборок по 30 наблюдений из нормального распределения $N(\\hat\\theta, \\sigma^2)$;\n",
    "- для каждой бутстрэповской выборке рассчитаем среднее значение;\n",
    "- возьмём квантили вариационного ряда получившихся средних значений в качестве оценок для доверительного интервала"
   ]
  },
  {
   "cell_type": "code",
   "execution_count": 5,
   "metadata": {},
   "outputs": [
    {
     "data": {
      "text/latex": [
       "$\\displaystyle \\text{95\\%-ный доверительный интервал для }\\theta\\text{ на основе параметрического бутстрэпа}: [16.538114279030875, 17.318397193828755]$"
      ],
      "text/plain": [
       "<IPython.core.display.Math object>"
      ]
     },
     "metadata": {},
     "output_type": "display_data"
    }
   ],
   "source": [
    "theta_hat = np.mean(sample) \n",
    "np.random.seed(123)\n",
    "sample_boot_param = np.random.normal(theta_hat, sigma, size=[50, 30]) \n",
    "theta_boot_param = np.mean(sample_boot_param, axis=1)\n",
    "ci_2 = [np.quantile(theta_boot_param, 0.05/2), np.quantile(theta_boot_param, 1-0.05/2)]\n",
    "display(Math('\\\\text{{95\\%-ный доверительный интервал для }}\\\\theta\\\\text{{ на основе параметрического бутстрэпа}}: [{}, {}]'.format(ci_2[0], ci_2[1])))"
   ]
  },
  {
   "cell_type": "markdown",
   "metadata": {},
   "source": [
    "3.3. 95%-ный доверительный интервал для $\\theta$ на основе непараметрического бутстрэпа:\n",
    "\n",
    "- сделаем 50 бустрэповских выборок по 30 наблюдений из имеющихся данных;\n",
    "- для каждой бутстрэповской выборке рассчитаем среднее значение;\n",
    "- возьмём квантили вариационного ряда получившихся средних значений в качестве оценок для доверительного интервала"
   ]
  },
  {
   "cell_type": "code",
   "execution_count": 6,
   "metadata": {},
   "outputs": [
    {
     "data": {
      "text/latex": [
       "$\\displaystyle \\text{95\\%-ный доверительный интервал для }\\theta\\text{ на основе непараметрического бутстрэпа}: [16.489431244058004, 17.47640611605218]$"
      ],
      "text/plain": [
       "<IPython.core.display.Math object>"
      ]
     },
     "metadata": {},
     "output_type": "display_data"
    }
   ],
   "source": [
    "np.random.seed(123)\n",
    "sample_boot_nparam = np.random.choice(sample, size=[50, 30]) \n",
    "theta_boot_nparam = np.mean(sample_boot_nparam, axis=1)\n",
    "ci_3 = [np.quantile(theta_boot_nparam, 0.05/2), np.quantile(theta_boot_nparam, 1-0.05/2)]\n",
    "display(Math('\\\\text{{95\\%-ный доверительный интервал для }}\\\\theta\\\\text{{ на основе непараметрического бутстрэпа}}: [{}, {}]'.format(ci_3[0], ci_3[1])))"
   ]
  },
  {
   "cell_type": "markdown",
   "metadata": {},
   "source": [
    "4) Сравним длины получившихся доверительных интервалов:"
   ]
  },
  {
   "cell_type": "code",
   "execution_count": 7,
   "metadata": {},
   "outputs": [
    {
     "data": {
      "text/latex": [
       "$\\displaystyle \\text{Длина теоретического доверительного интервала}: [0.71298617]$"
      ],
      "text/plain": [
       "<IPython.core.display.Math object>"
      ]
     },
     "metadata": {},
     "output_type": "display_data"
    },
    {
     "data": {
      "text/latex": [
       "$\\displaystyle \\text{Длина параметрического бутстрэповского доверительного интервала}: 0.7802829147978798$"
      ],
      "text/plain": [
       "<IPython.core.display.Math object>"
      ]
     },
     "metadata": {},
     "output_type": "display_data"
    },
    {
     "data": {
      "text/latex": [
       "$\\displaystyle \\text{Длина непараметрического бутстрэповского доверительного интервала}: 0.9869748719941747$"
      ],
      "text/plain": [
       "<IPython.core.display.Math object>"
      ]
     },
     "metadata": {},
     "output_type": "display_data"
    }
   ],
   "source": [
    "display(Math('\\\\text{{Длина теоретического доверительного интервала}}: {}'.format(ci_1[1] - ci_1[0])))\n",
    "display(Math('\\\\text{{Длина параметрического бутстрэповского доверительного интервала}}: {}'.format(ci_2[1] - ci_2[0])))\n",
    "display(Math('\\\\text{{Длина непараметрического бутстрэповского доверительного интервала}}: {}'.format(ci_3[1] - ci_3[0])))"
   ]
  },
  {
   "cell_type": "markdown",
   "metadata": {},
   "source": [
    "У бустрэповских доверительных интервалов длина больше, чем у теоретического доверительного интервала, у непараметрического - больше, чем у параметрического."
   ]
  },
  {
   "cell_type": "markdown",
   "metadata": {},
   "source": [
    "5. Эксперимент для 10000 выборок с расчётом средней длины доверительных интервалов и частоты попадания $\\theta$ в полученные доверительные интервалы:"
   ]
  },
  {
   "cell_type": "code",
   "execution_count": 10,
   "metadata": {},
   "outputs": [
    {
     "data": {
      "text/html": [
       "<div>\n",
       "<style scoped>\n",
       "    .dataframe tbody tr th:only-of-type {\n",
       "        vertical-align: middle;\n",
       "    }\n",
       "\n",
       "    .dataframe tbody tr th {\n",
       "        vertical-align: top;\n",
       "    }\n",
       "\n",
       "    .dataframe thead th {\n",
       "        text-align: right;\n",
       "    }\n",
       "</style>\n",
       "<table border=\"1\" class=\"dataframe\">\n",
       "  <thead>\n",
       "    <tr style=\"text-align: right;\">\n",
       "      <th></th>\n",
       "      <th>Интервал</th>\n",
       "      <th>Средняя длина интервала</th>\n",
       "      <th>Частота попадания theta в интервал</th>\n",
       "    </tr>\n",
       "  </thead>\n",
       "  <tbody>\n",
       "    <tr>\n",
       "      <th>0</th>\n",
       "      <td>Теоретический</td>\n",
       "      <td>0.712986</td>\n",
       "      <td>0.9508</td>\n",
       "    </tr>\n",
       "    <tr>\n",
       "      <th>1</th>\n",
       "      <td>Параметрический бутстрэп</td>\n",
       "      <td>0.846651</td>\n",
       "      <td>0.9696</td>\n",
       "    </tr>\n",
       "    <tr>\n",
       "      <th>2</th>\n",
       "      <td>Непараметрический бутстрэп</td>\n",
       "      <td>0.833791</td>\n",
       "      <td>0.9649</td>\n",
       "    </tr>\n",
       "  </tbody>\n",
       "</table>\n",
       "</div>"
      ],
      "text/plain": [
       "                     Интервал  Средняя длина интервала  \\\n",
       "0               Теоретический                 0.712986   \n",
       "1    Параметрический бутстрэп                 0.846651   \n",
       "2  Непараметрический бутстрэп                 0.833791   \n",
       "\n",
       "   Частота попадания theta в интервал  \n",
       "0                              0.9508  \n",
       "1                              0.9696  \n",
       "2                              0.9649  "
      ]
     },
     "execution_count": 10,
     "metadata": {},
     "output_type": "execute_result"
    }
   ],
   "source": [
    "ci_1_len = np.zeros(10000)\n",
    "ci_2_len = np.zeros(10000)\n",
    "ci_3_len = np.zeros(10000)\n",
    "ci_1_theta = np.zeros(10000)\n",
    "ci_2_theta = np.zeros(10000)\n",
    "ci_3_theta = np.zeros(10000)\n",
    "\n",
    "for i in range(10000):\n",
    "    sample = np.random.normal(theta, sigma, size=50)\n",
    "    q_n = stats.norm.ppf(1-0.05/2)\n",
    "    ci_1 = [np.mean(sample) - q_n * sigma/ np.sqrt(50), np.mean(sample) + q_n * sigma/ np.sqrt(50)]\n",
    "    \n",
    "    theta_hat = np.mean(sample)\n",
    "    \n",
    "    sample_boot_param = np.random.normal(theta_hat, sigma, size=[50, 30]) \n",
    "    theta_boot_param = np.mean(sample_boot_param, axis=1)\n",
    "    ci_2 = [np.quantile(theta_boot_param, 0.05/2), np.quantile(theta_boot_param, 1-0.05/2)]\n",
    "    \n",
    "    sample_boot_nparam = np.random.choice(sample, size=[50, 30]) \n",
    "    theta_boot_nparam = np.mean(sample_boot_nparam, axis=1)\n",
    "    ci_3 = [np.quantile(theta_boot_nparam, 0.05/2), np.quantile(theta_boot_nparam, 1-0.05/2)]\n",
    "    \n",
    "    ci_1_len[i] = ci_1[1] - ci_1[0]\n",
    "    ci_1_theta[i] = (theta >= ci_1[0]) and (theta <= ci_1[1])\n",
    "    ci_2_len[i] = ci_2[1] - ci_2[0]\n",
    "    ci_2_theta[i] = (theta >= ci_2[0]) and (theta <= ci_2[1])\n",
    "    ci_3_len[i] = ci_3[1] - ci_3[0]\n",
    "    ci_3_theta[i] = (theta >= ci_3[0]) and (theta <= ci_3[1])\n",
    "    \n",
    "res = pd.DataFrame({'Интервал': ['Теоретический', 'Параметрический бутстрэп', 'Непараметрический бутстрэп'],\n",
    "                   'Средняя длина интервала': [np.mean(ci_1_len), np.mean(ci_2_len), np.mean(ci_3_len)],\n",
    "                   'Частота попадания theta в интервал': [np.mean(ci_1_theta), np.mean(ci_2_theta), np.mean(ci_3_theta)]})\n",
    "res"
   ]
  },
  {
   "cell_type": "markdown",
   "metadata": {},
   "source": [
    "Средняя длина меньше у теоретических доверительных интервалов. Между параметрическим и непараметрическим бутстрэпом, на мой взгляд, разница незначительна (у непараметрического чуть уже интервал, в среднем).\\\n",
    "$\\theta$ чуть чаще попадает в доверительные интервалы для бутстрэпа - это ожидаемо, раз они шире."
   ]
  }
 ],
 "metadata": {
  "kernelspec": {
   "display_name": "Python 3 (ipykernel)",
   "language": "python",
   "name": "python3"
  },
  "language_info": {
   "codemirror_mode": {
    "name": "ipython",
    "version": 3
   },
   "file_extension": ".py",
   "mimetype": "text/x-python",
   "name": "python",
   "nbconvert_exporter": "python",
   "pygments_lexer": "ipython3",
   "version": "3.10.1"
  }
 },
 "nbformat": 4,
 "nbformat_minor": 4
}
