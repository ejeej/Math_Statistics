{
 "cells": [
  {
   "cell_type": "markdown",
   "metadata": {},
   "source": [
    "### **Задание 1**"
   ]
  },
  {
   "cell_type": "markdown",
   "metadata": {},
   "source": [
    "1. Если речь о гипотезах относительно распределения случайной величины, то в простых гипотезах тестируется предположение о том, что наблюдения пришли из определённого распределения с определёнными параметрами (например, из нормального распределения с определённым средним значением и дисперсией), в сложных - предположение о том, что наблюдения пришли из некоторого семейства распределений, без предположения о его параметрах."
   ]
  },
  {
   "cell_type": "markdown",
   "metadata": {},
   "source": [
    "2. Параметрические критерии строятся на предположении о том, что имеющиеся данные, по которым будет тестироваться гипотеза, пришли из определённого семейства распределений (как правило, из непрерывного семейства распределений, например, нормального), непараметрические критерии не имеют подобных ограничений на данные (ни на непрерывность шкалы измерений, ни на семейство распределений). При использовании непараметрических критериев, как правило, от \"чистых\" данных переходят к некоторым их преобразованиям (например, рангам, знакам и т.п.). \n",
    "\n",
    "   Соответственно, при выполнении предпосылок параметрического критерия, лучше использовать его (по сравнению с непараметрическим он будет обладать большей мощностью), в противном случае - зависит от \"природы данных\" и количества наблюдений. Например, если данные представляют собой результаты наблюдений за дискретной или порядковой величиной с относительно небольшим количеством возможных значений или если размер выборки небольшой, лучше использовать непараметрические критерии. Начиная с некоторого размера выборки, даже при невыполнении предпосылки об определённом виде распределения непрерывной случайной величины, параметрические критерии уже могут работать вполне неплохо (особенно учитывая их большую мощность). Также для порядковых переменных при большом количестве возможных значений и достаточном объёме выборки можно применять параметрические критерии."
   ]
  },
  {
   "cell_type": "markdown",
   "metadata": {},
   "source": [
    "3. Уровень значимости ($\\alpha$) - это пороговое значение ошибки первого рода (ошибочного отвержения нулевой гипотезы), которое фиксируется до начала эксперимента и с которым затем будет сравниваться фактический уровень значимости с целью вынесения вердикта относительно отвержения или неотвержения нулевой гипотезы по результатам эксперимента.\n",
    "\n",
    "    Фактический уровень значимости (p-value) - это вероятность получить такое же или более экстремальное значение тестовой статистики по сравнению с полученным по имеющимся данным, при условии справедливости нулевой гипотезы."
   ]
  },
  {
   "cell_type": "markdown",
   "metadata": {},
   "source": [
    "4. Проверить нормальность выборки можно с помощью следующих критериев:\n",
    "\n",
    "- критерий Колмогорова,\n",
    "- критерий Шапиро-Уилка и QQ-график\n",
    "- критерий Харке-Бера\n",
    "\n",
    "Можно и критерий критерий $\\chi^2$ использовать, но для его применения нужно разбить данные на интервалы равной длины и результат теста будет зависеть от количества интервалов этого разбиения - соответственно, результат может быть неустойчивым + для непрерывных случайных величин такая \"дискретизация\" может быть сопряжена с потерей информации."
   ]
  },
  {
   "cell_type": "markdown",
   "metadata": {},
   "source": [
    "5. Ранг наблюдения - это его порядковый номер в вариационном ряде (упорядоченной по неубыванию последовательности наблюдений). Одинаковым по значениям наблюдениям присваивается среднее значение из их порядковых номеров. \n",
    "\n",
    "    Ранговые критерии являются непараметрическими. Соответственно, их можно использовать для непрерывных и порядковых случайных величин. Например, тест Манна-Уитни используется для тестирования гиотезы о том, пришли ли данные для двух несвязных выборок из одного распределения; является своеобразной непараметрической альтернативой для двухвыорочного t-теста Стьюдента. Тест знаковых рангов Вилкоксона - гипотезу об отсутствии системного сдвига в разнице между наблюдениями для двух связных выборок; непараметрическая альтернатива парному двухвыборочному t-тесту Стьюдента. Ранговые критерии предпочтительнее использовать для дискретных/ порядковых случайных величин и/или для непрерывных при небольшом количестве наблюдений. В общем-то, здесь те же аргументы, что и в п.2 для непараметрических критериев в целом."
   ]
  },
  {
   "cell_type": "markdown",
   "metadata": {},
   "source": [
    "### **Задание 2**"
   ]
  },
  {
   "cell_type": "code",
   "execution_count": 1,
   "metadata": {},
   "outputs": [],
   "source": [
    "import numpy as np\n",
    "import pandas as pd\n",
    "import matplotlib.pyplot as plt\n",
    "from scipy import stats\n",
    "from statsmodels.graphics.gofplots import qqplot \n",
    "%matplotlib inline"
   ]
  },
  {
   "cell_type": "code",
   "execution_count": 2,
   "metadata": {},
   "outputs": [
    {
     "data": {
      "text/plain": [
       "(100, 10)"
      ]
     },
     "execution_count": 2,
     "metadata": {},
     "output_type": "execute_result"
    }
   ],
   "source": [
    "data = pd.read_excel('employees.xls')\n",
    "data.shape"
   ]
  },
  {
   "cell_type": "code",
   "execution_count": 3,
   "metadata": {},
   "outputs": [
    {
     "data": {
      "image/png": "[encoded data removed]",
      "text/plain": [
       "<Figure size 432x288 with 1 Axes>"
      ]
     },
     "metadata": {
      "needs_background": "light"
     },
     "output_type": "display_data"
    }
   ],
   "source": [
    "plt.hist(data['SALARY'], bins=20)\n",
    "plt.show();"
   ]
  },
  {
   "cell_type": "markdown",
   "metadata": {},
   "source": [
    "Визуально распределение не похоже на нормальное. Проверим это."
   ]
  },
  {
   "cell_type": "markdown",
   "metadata": {},
   "source": [
    "1. Критерий Колмогорова:"
   ]
  },
  {
   "cell_type": "code",
   "execution_count": 4,
   "metadata": {},
   "outputs": [
    {
     "data": {
      "text/plain": [
       "KstestResult(statistic=1.0, pvalue=0.0)"
      ]
     },
     "execution_count": 4,
     "metadata": {},
     "output_type": "execute_result"
    }
   ],
   "source": [
    "stats.kstest(data['SALARY'], cdf='norm')"
   ]
  },
  {
   "cell_type": "markdown",
   "metadata": {},
   "source": [
    "На 5%-ном уровне значимости критерий Колмогорова отвергает гипотезу о нормальности распределения данных (p-value < 0.001)."
   ]
  },
  {
   "cell_type": "markdown",
   "metadata": {},
   "source": [
    "2. QQ-plot:"
   ]
  },
  {
   "cell_type": "code",
   "execution_count": 5,
   "metadata": {},
   "outputs": [
    {
     "data": {
      "image/png": "[encoded data removed]",
      "text/plain": [
       "<Figure size 432x288 with 1 Axes>"
      ]
     },
     "metadata": {
      "needs_background": "light"
     },
     "output_type": "display_data"
    }
   ],
   "source": [
    "qqplot(data['SALARY'], line='s')\n",
    "plt.show();"
   ]
  },
  {
   "cell_type": "markdown",
   "metadata": {},
   "source": [
    "Квантили эмпирической функции распределения сильно отклоняются от теоретических квантилей для нормального распределения - не только по краям, но и в центре."
   ]
  },
  {
   "cell_type": "markdown",
   "metadata": {},
   "source": [
    "3. Критерий Шапиро-Уилка:"
   ]
  },
  {
   "cell_type": "code",
   "execution_count": 6,
   "metadata": {},
   "outputs": [
    {
     "data": {
      "text/plain": [
       "ShapiroResult(statistic=0.9015016555786133, pvalue=1.6645467439957429e-06)"
      ]
     },
     "execution_count": 6,
     "metadata": {},
     "output_type": "execute_result"
    }
   ],
   "source": [
    "stats.shapiro(data['SALARY'])"
   ]
  },
  {
   "cell_type": "markdown",
   "metadata": {},
   "source": [
    "На 5%-ном уровне значимости критерий Шапиро-Уилка отвергает гипотезу о нормальности распределения данных (p-value < 0.001)."
   ]
  },
  {
   "cell_type": "markdown",
   "metadata": {},
   "source": [
    "4. Критерий Харке-Бера:"
   ]
  },
  {
   "cell_type": "code",
   "execution_count": 7,
   "metadata": {},
   "outputs": [
    {
     "data": {
      "text/plain": [
       "Jarque_beraResult(statistic=34.06327990738705, pvalue=4.011000820369759e-08)"
      ]
     },
     "execution_count": 7,
     "metadata": {},
     "output_type": "execute_result"
    }
   ],
   "source": [
    "stats.jarque_bera(data['SALARY'])"
   ]
  },
  {
   "cell_type": "markdown",
   "metadata": {},
   "source": [
    "На 5%-ном уровне значимости критерий Харке-Бера отвергает гипотезу о нормальности распределения данных (p-value < 0.001)."
   ]
  },
  {
   "cell_type": "markdown",
   "metadata": {},
   "source": [
    "### **Задание 3**"
   ]
  },
  {
   "cell_type": "code",
   "execution_count": 8,
   "metadata": {},
   "outputs": [
    {
     "data": {
      "text/plain": [
       "(100, 1)"
      ]
     },
     "execution_count": 8,
     "metadata": {},
     "output_type": "execute_result"
    }
   ],
   "source": [
    "data = pd.read_csv('sample.csv')\n",
    "data.shape"
   ]
  },
  {
   "cell_type": "code",
   "execution_count": 9,
   "metadata": {},
   "outputs": [
    {
     "data": {
      "text/plain": [
       "Index(['Sample'], dtype='object')"
      ]
     },
     "execution_count": 9,
     "metadata": {},
     "output_type": "execute_result"
    }
   ],
   "source": [
    "data.columns"
   ]
  },
  {
   "cell_type": "code",
   "execution_count": 10,
   "metadata": {},
   "outputs": [
    {
     "data": {
      "image/png": "[encoded data removed]",
      "text/plain": [
       "<Figure size 432x288 with 1 Axes>"
      ]
     },
     "metadata": {
      "needs_background": "light"
     },
     "output_type": "display_data"
    }
   ],
   "source": [
    "plt.hist(data['Sample'], bins=20)\n",
    "plt.show();"
   ]
  },
  {
   "cell_type": "code",
   "execution_count": 11,
   "metadata": {},
   "outputs": [
    {
     "data": {
      "image/png": "[encoded data removed]",
      "text/plain": [
       "<Figure size 432x288 with 1 Axes>"
      ]
     },
     "metadata": {
      "needs_background": "light"
     },
     "output_type": "display_data"
    },
    {
     "data": {
      "image/png": "[encoded data removed]",
      "text/plain": [
       "<Figure size 432x288 with 1 Axes>"
      ]
     },
     "metadata": {
      "needs_background": "light"
     },
     "output_type": "display_data"
    },
    {
     "data": {
      "image/png": "[encoded data removed]",
      "text/plain": [
       "<Figure size 432x288 with 1 Axes>"
      ]
     },
     "metadata": {
      "needs_background": "light"
     },
     "output_type": "display_data"
    },
    {
     "data": {
      "image/png": "[encoded data removed]",
      "text/plain": [
       "<Figure size 432x288 with 1 Axes>"
      ]
     },
     "metadata": {
      "needs_background": "light"
     },
     "output_type": "display_data"
    },
    {
     "data": {
      "image/png": "[encoded data removed]",
      "text/plain": [
       "<Figure size 432x288 with 1 Axes>"
      ]
     },
     "metadata": {
      "needs_background": "light"
     },
     "output_type": "display_data"
    },
    {
     "data": {
      "image/png": "[encoded data removed]",
      "text/plain": [
       "<Figure size 432x288 with 1 Axes>"
      ]
     },
     "metadata": {
      "needs_background": "light"
     },
     "output_type": "display_data"
    },
    {
     "data": {
      "image/png": "[encoded data removed]",
      "text/plain": [
       "<Figure size 432x288 with 1 Axes>"
      ]
     },
     "metadata": {
      "needs_background": "light"
     },
     "output_type": "display_data"
    }
   ],
   "source": [
    "qqplot(data['Sample'], line='q')\n",
    "plt.title('Normal distribution')\n",
    "\n",
    "qqplot(data['Sample'], stats.uniform, line='q')\n",
    "plt.title('Uniform distribution')\n",
    "\n",
    "qqplot(data['Sample'], stats.expon, line='q')\n",
    "plt.title('Exponential distribution')\n",
    "\n",
    "qqplot(data['Sample'], stats.lognorm, line='q', fit=True)\n",
    "plt.title('Log normal distribution')\n",
    "\n",
    "qqplot(data['Sample'], stats.gamma, line='q', fit=True)\n",
    "plt.title('Gamma distribution')\n",
    "\n",
    "qqplot(data['Sample'], stats.chi2, line='q', fit=True)\n",
    "plt.title('Chi-squared distribution')\n",
    "\n",
    "qqplot(data['Sample'], stats.t, line='q', fit=True)\n",
    "plt.title('Student t distribution')\n",
    "\n",
    "plt.show();"
   ]
  },
  {
   "cell_type": "markdown",
   "metadata": {},
   "source": [
    "Визуально распределение данных близко к экпоненциальному или лог-нормальному. Для проверки на логнормальность можно проверить на нормальность логарифмированные исходные данные."
   ]
  },
  {
   "cell_type": "code",
   "execution_count": 12,
   "metadata": {},
   "outputs": [
    {
     "data": {
      "text/plain": [
       "count    100.000000\n",
       "mean       3.825389\n",
       "std        3.255657\n",
       "min        0.003851\n",
       "25%        1.498980\n",
       "50%        3.342138\n",
       "75%        4.814318\n",
       "max       14.578639\n",
       "Name: Sample, dtype: float64"
      ]
     },
     "execution_count": 12,
     "metadata": {},
     "output_type": "execute_result"
    }
   ],
   "source": [
    "data['Sample'].describe()"
   ]
  },
  {
   "cell_type": "markdown",
   "metadata": {},
   "source": [
    "Видим, что все данные положительные - можно логарифмировать без потерь и дополнительных преобразований."
   ]
  },
  {
   "cell_type": "code",
   "execution_count": 13,
   "metadata": {},
   "outputs": [],
   "source": [
    "data['LogSample'] = np.log(data['Sample'])"
   ]
  },
  {
   "cell_type": "code",
   "execution_count": 14,
   "metadata": {},
   "outputs": [
    {
     "data": {
      "image/png": "[encoded data removed]",
      "text/plain": [
       "<Figure size 432x288 with 1 Axes>"
      ]
     },
     "metadata": {
      "needs_background": "light"
     },
     "output_type": "display_data"
    }
   ],
   "source": [
    "plt.hist(data['LogSample'], bins=20)\n",
    "plt.show()"
   ]
  },
  {
   "cell_type": "code",
   "execution_count": 15,
   "metadata": {},
   "outputs": [
    {
     "data": {
      "text/plain": [
       "KstestResult(statistic=0.42786074609173613, pvalue=3.883750727607277e-17)"
      ]
     },
     "execution_count": 15,
     "metadata": {},
     "output_type": "execute_result"
    }
   ],
   "source": [
    "stats.kstest(data['LogSample'], cdf='norm')"
   ]
  },
  {
   "cell_type": "code",
   "execution_count": 16,
   "metadata": {},
   "outputs": [
    {
     "data": {
      "image/png": "[encoded data removed]",
      "text/plain": [
       "<Figure size 432x288 with 1 Axes>"
      ]
     },
     "metadata": {
      "needs_background": "light"
     },
     "output_type": "display_data"
    }
   ],
   "source": [
    "qqplot(data['LogSample'], line='s')\n",
    "plt.show();"
   ]
  },
  {
   "cell_type": "code",
   "execution_count": 17,
   "metadata": {},
   "outputs": [
    {
     "data": {
      "text/plain": [
       "ShapiroResult(statistic=0.8309879302978516, pvalue=2.50015586011898e-09)"
      ]
     },
     "execution_count": 17,
     "metadata": {},
     "output_type": "execute_result"
    }
   ],
   "source": [
    "stats.shapiro(data['LogSample'])"
   ]
  },
  {
   "cell_type": "markdown",
   "metadata": {},
   "source": [
    "Видим, что все критерии отклоняют гипотезу о нормальности распределения логарифма исходных данных."
   ]
  },
  {
   "cell_type": "markdown",
   "metadata": {},
   "source": [
    "Что касается проверки данных на соответствие экспоненциальному распределению, то здесь можно использовать критерий Колмогорова, причем поскольку мы оцениваем параметры этого распределения по выборочным данным, корректнее использовать модификацию теста Колмогорова, а именно: тест Лиллиефорса (см., например, [здесь](https://stats.stackexchange.com/questions/110272/a-naive-question-about-the-kolmogorov-smirnov-test)).\n",
    "\n",
    "Есть ещё метод исключения параметра и критерий Джини (о них рассказывали на лекции), которые позволяют проверить распределение на экспоненциальность, но я ограничусь тестом Лиллиефорса, поскольку он есть в Питоне."
   ]
  },
  {
   "cell_type": "code",
   "execution_count": 18,
   "metadata": {},
   "outputs": [
    {
     "data": {
      "text/plain": [
       "(0.09818555356502978, 0.0971852995226605)"
      ]
     },
     "execution_count": 18,
     "metadata": {},
     "output_type": "execute_result"
    }
   ],
   "source": [
    "from statsmodels.stats.diagnostic import lilliefors\n",
    "lilliefors(data['Sample'], 'exp')"
   ]
  },
  {
   "cell_type": "markdown",
   "metadata": {},
   "source": [
    "Второе из возвращенных значений - это p-value - на 5%-ном уровне значимости мы не отвергаем гипотезу об экспоненциальном распределении данных. Таким образом, наиболее подходящим для исходных данных является экспоненциальное распределение."
   ]
  },
  {
   "cell_type": "markdown",
   "metadata": {},
   "source": [
    "### **Задание 4**"
   ]
  },
  {
   "cell_type": "code",
   "execution_count": 19,
   "metadata": {},
   "outputs": [
    {
     "data": {
      "text/plain": [
       "Index(['Before', 'After'], dtype='object')"
      ]
     },
     "execution_count": 19,
     "metadata": {},
     "output_type": "execute_result"
    }
   ],
   "source": [
    "data = pd.read_csv('anorexia.txt', delimiter = \"\\t\")\n",
    "data.columns"
   ]
  },
  {
   "cell_type": "code",
   "execution_count": 20,
   "metadata": {},
   "outputs": [
    {
     "data": {
      "text/html": [
       "<div>\n",
       "<style scoped>\n",
       "    .dataframe tbody tr th:only-of-type {\n",
       "        vertical-align: middle;\n",
       "    }\n",
       "\n",
       "    .dataframe tbody tr th {\n",
       "        vertical-align: top;\n",
       "    }\n",
       "\n",
       "    .dataframe thead th {\n",
       "        text-align: right;\n",
       "    }\n",
       "</style>\n",
       "<table border=\"1\" class=\"dataframe\">\n",
       "  <thead>\n",
       "    <tr style=\"text-align: right;\">\n",
       "      <th></th>\n",
       "      <th>Before</th>\n",
       "      <th>After</th>\n",
       "    </tr>\n",
       "  </thead>\n",
       "  <tbody>\n",
       "    <tr>\n",
       "      <th>count</th>\n",
       "      <td>29.000000</td>\n",
       "      <td>29.000000</td>\n",
       "    </tr>\n",
       "    <tr>\n",
       "      <th>mean</th>\n",
       "      <td>82.689655</td>\n",
       "      <td>85.696552</td>\n",
       "    </tr>\n",
       "    <tr>\n",
       "      <th>std</th>\n",
       "      <td>4.845495</td>\n",
       "      <td>8.351924</td>\n",
       "    </tr>\n",
       "    <tr>\n",
       "      <th>min</th>\n",
       "      <td>70.000000</td>\n",
       "      <td>71.300000</td>\n",
       "    </tr>\n",
       "    <tr>\n",
       "      <th>25%</th>\n",
       "      <td>80.400000</td>\n",
       "      <td>81.900000</td>\n",
       "    </tr>\n",
       "    <tr>\n",
       "      <th>50%</th>\n",
       "      <td>82.600000</td>\n",
       "      <td>83.900000</td>\n",
       "    </tr>\n",
       "    <tr>\n",
       "      <th>75%</th>\n",
       "      <td>85.000000</td>\n",
       "      <td>90.900000</td>\n",
       "    </tr>\n",
       "    <tr>\n",
       "      <th>max</th>\n",
       "      <td>94.900000</td>\n",
       "      <td>103.600000</td>\n",
       "    </tr>\n",
       "  </tbody>\n",
       "</table>\n",
       "</div>"
      ],
      "text/plain": [
       "          Before       After\n",
       "count  29.000000   29.000000\n",
       "mean   82.689655   85.696552\n",
       "std     4.845495    8.351924\n",
       "min    70.000000   71.300000\n",
       "25%    80.400000   81.900000\n",
       "50%    82.600000   83.900000\n",
       "75%    85.000000   90.900000\n",
       "max    94.900000  103.600000"
      ]
     },
     "execution_count": 20,
     "metadata": {},
     "output_type": "execute_result"
    }
   ],
   "source": [
    "data.describe()"
   ]
  },
  {
   "cell_type": "code",
   "execution_count": 21,
   "metadata": {},
   "outputs": [
    {
     "data": {
      "image/png": "[encoded data removed]",
      "text/plain": [
       "<Figure size 432x288 with 1 Axes>"
      ]
     },
     "metadata": {
      "needs_background": "light"
     },
     "output_type": "display_data"
    }
   ],
   "source": [
    "import seaborn as sns\n",
    "sns.boxplot(data=data)\n",
    "plt.show();"
   ]
  },
  {
   "cell_type": "code",
   "execution_count": 22,
   "metadata": {},
   "outputs": [
    {
     "data": {
      "image/png": "[encoded data removed]",
      "text/plain": [
       "<Figure size 432x288 with 1 Axes>"
      ]
     },
     "metadata": {
      "needs_background": "light"
     },
     "output_type": "display_data"
    }
   ],
   "source": [
    "plt.hist(data)\n",
    "plt.legend(data.columns)\n",
    "plt.show();"
   ]
  },
  {
   "cell_type": "markdown",
   "metadata": {},
   "source": [
    "Выборки показателя до и после терапии являются связными. Неизвестно, что это за показатель, поэтому нельзя сказать, ожидалось ли его увеличение или уменьшение в результате терапии, поэтому альтернативные гипотезы во всех критериях ниже будут двусторонними. Для проверки того, была ли терапия эффективной, подойдут следующие критерии:\n",
    "\n",
    "**1) t-критерий Стьюдента для связных выборок**:\n",
    "- $H_0$: среднее значение показателя до терапии равно среднему значению показателя после неё\n",
    "- $H_a$: средние значения не равны\n",
    "- предпосылки: предполагается, что распределение разницы между парными выборками имеет нормальное распределение\n",
    "\n",
    "Для начала проверим, выполняется ли предпосылка о нормальности распределения разницы."
   ]
  },
  {
   "cell_type": "code",
   "execution_count": 23,
   "metadata": {},
   "outputs": [
    {
     "data": {
      "image/png": "[encoded data removed]",
      "text/plain": [
       "<Figure size 432x288 with 1 Axes>"
      ]
     },
     "metadata": {
      "needs_background": "light"
     },
     "output_type": "display_data"
    }
   ],
   "source": [
    "plt.hist(data['After']-data['Before'])\n",
    "plt.show();"
   ]
  },
  {
   "cell_type": "code",
   "execution_count": 24,
   "metadata": {},
   "outputs": [
    {
     "data": {
      "image/png": "[encoded data removed]",
      "text/plain": [
       "<Figure size 432x288 with 1 Axes>"
      ]
     },
     "metadata": {
      "needs_background": "light"
     },
     "output_type": "display_data"
    }
   ],
   "source": [
    "sns.boxplot(data=data['After']-data['Before'])\n",
    "plt.show();"
   ]
  },
  {
   "cell_type": "code",
   "execution_count": 25,
   "metadata": {},
   "outputs": [
    {
     "data": {
      "image/png": "[encoded data removed]",
      "text/plain": [
       "<Figure size 432x288 with 1 Axes>"
      ]
     },
     "metadata": {
      "needs_background": "light"
     },
     "output_type": "display_data"
    }
   ],
   "source": [
    "qqplot(data['After']-data['Before'], line='s')\n",
    "plt.show();"
   ]
  },
  {
   "cell_type": "code",
   "execution_count": 26,
   "metadata": {},
   "outputs": [
    {
     "data": {
      "text/plain": [
       "ShapiroResult(statistic=0.8961783647537231, pvalue=0.007945157587528229)"
      ]
     },
     "execution_count": 26,
     "metadata": {},
     "output_type": "execute_result"
    }
   ],
   "source": [
    "stats.shapiro(data['After']-data['Before'])"
   ]
  },
  {
   "cell_type": "markdown",
   "metadata": {},
   "source": [
    "На 5%-ном уровне значимости гипотеза о нормальности распределения отвергается, и по QQ-графику видны отклонения от нормального распределения, особенно в правой части распределения. Поэтому формально t-тест Стьюдента применять нельзя, тем более, как видно по боксплоту, у разницы показателей до и после терапии есть выбросы."
   ]
  },
  {
   "cell_type": "markdown",
   "metadata": {},
   "source": [
    "**2) критерий знаков (непараметрический)**:\n",
    "- $H_0$: разница между медианами показателя до и после терапии равна нулю (иными словами, медианы равны)\n",
    "- $H_a$: разница между медианами не равна 0"
   ]
  },
  {
   "cell_type": "code",
   "execution_count": 27,
   "metadata": {},
   "outputs": [
    {
     "data": {
      "text/plain": [
       "(3.5, 0.26493089646101)"
      ]
     },
     "execution_count": 27,
     "metadata": {},
     "output_type": "execute_result"
    }
   ],
   "source": [
    "from statsmodels.stats.descriptivestats import sign_test\n",
    "sign_test(data['After']-data['Before'])"
   ]
  },
  {
   "cell_type": "markdown",
   "metadata": {},
   "source": [
    "На 5%-ном уровне значимости мы не можем отвергнуть нулевую гипотезу - соответственно, не можем говорить о том, что терапия была эффективной."
   ]
  },
  {
   "cell_type": "markdown",
   "metadata": {},
   "source": [
    "**3) критерий знаковых рангов Вилкоксона (непараметрический)**:\n",
    "- $H_0$: системный сдвиг в разнице между показателями до и после терапии равен нулю\n",
    "- $H_a$: системный сдвиг не равен нулю\n",
    "- предпосылки: предполагается, что распределение разницы между связными выборками является симметричным\n",
    "\n",
    "По гистограмме выше видно, что распределение не является симметричным, поэтому я бы не стала применять критерий Вилкоксона - вполне достаточно критерия знаков, у которого нет подобных ограничений."
   ]
  },
  {
   "cell_type": "markdown",
   "metadata": {},
   "source": [
    "### **Задание 5**"
   ]
  },
  {
   "cell_type": "code",
   "execution_count": 28,
   "metadata": {},
   "outputs": [
    {
     "data": {
      "text/plain": [
       "Index(['Price', 'Year'], dtype='object')"
      ]
     },
     "execution_count": 28,
     "metadata": {},
     "output_type": "execute_result"
    }
   ],
   "source": [
    "data = pd.read_csv('seattle.txt', delimiter = \"\\t\")\n",
    "data.columns"
   ]
  },
  {
   "cell_type": "code",
   "execution_count": 29,
   "metadata": {},
   "outputs": [
    {
     "data": {
      "text/html": [
       "<div>\n",
       "<style scoped>\n",
       "    .dataframe tbody tr th:only-of-type {\n",
       "        vertical-align: middle;\n",
       "    }\n",
       "\n",
       "    .dataframe tbody tr th {\n",
       "        vertical-align: top;\n",
       "    }\n",
       "\n",
       "    .dataframe thead tr th {\n",
       "        text-align: left;\n",
       "    }\n",
       "\n",
       "    .dataframe thead tr:last-of-type th {\n",
       "        text-align: right;\n",
       "    }\n",
       "</style>\n",
       "<table border=\"1\" class=\"dataframe\">\n",
       "  <thead>\n",
       "    <tr>\n",
       "      <th></th>\n",
       "      <th colspan=\"8\" halign=\"left\">Price</th>\n",
       "    </tr>\n",
       "    <tr>\n",
       "      <th></th>\n",
       "      <th>count</th>\n",
       "      <th>mean</th>\n",
       "      <th>std</th>\n",
       "      <th>min</th>\n",
       "      <th>25%</th>\n",
       "      <th>50%</th>\n",
       "      <th>75%</th>\n",
       "      <th>max</th>\n",
       "    </tr>\n",
       "    <tr>\n",
       "      <th>Year</th>\n",
       "      <th></th>\n",
       "      <th></th>\n",
       "      <th></th>\n",
       "      <th></th>\n",
       "      <th></th>\n",
       "      <th></th>\n",
       "      <th></th>\n",
       "      <th></th>\n",
       "    </tr>\n",
       "  </thead>\n",
       "  <tbody>\n",
       "    <tr>\n",
       "      <th>2001</th>\n",
       "      <td>50.0</td>\n",
       "      <td>288.92654</td>\n",
       "      <td>157.777757</td>\n",
       "      <td>50.0</td>\n",
       "      <td>190.25</td>\n",
       "      <td>260.800</td>\n",
       "      <td>406.7375</td>\n",
       "      <td>710.0</td>\n",
       "    </tr>\n",
       "    <tr>\n",
       "      <th>2002</th>\n",
       "      <td>50.0</td>\n",
       "      <td>329.25714</td>\n",
       "      <td>316.830045</td>\n",
       "      <td>50.0</td>\n",
       "      <td>176.20</td>\n",
       "      <td>244.925</td>\n",
       "      <td>328.6250</td>\n",
       "      <td>1850.0</td>\n",
       "    </tr>\n",
       "  </tbody>\n",
       "</table>\n",
       "</div>"
      ],
      "text/plain": [
       "     Price                                                                \n",
       "     count       mean         std   min     25%      50%       75%     max\n",
       "Year                                                                      \n",
       "2001  50.0  288.92654  157.777757  50.0  190.25  260.800  406.7375   710.0\n",
       "2002  50.0  329.25714  316.830045  50.0  176.20  244.925  328.6250  1850.0"
      ]
     },
     "execution_count": 29,
     "metadata": {},
     "output_type": "execute_result"
    }
   ],
   "source": [
    "data.groupby('Year').describe()"
   ]
  },
  {
   "cell_type": "code",
   "execution_count": 30,
   "metadata": {},
   "outputs": [
    {
     "data": {
      "image/png": "[encoded data removed]",
      "text/plain": [
       "<Figure size 432x288 with 1 Axes>"
      ]
     },
     "metadata": {
      "needs_background": "light"
     },
     "output_type": "display_data"
    }
   ],
   "source": [
    "sns.boxplot(x='Year', y='Price', data=data)\n",
    "plt.show();"
   ]
  },
  {
   "cell_type": "code",
   "execution_count": 31,
   "metadata": {},
   "outputs": [
    {
     "data": {
      "image/png": "[encoded data removed]",
      "text/plain": [
       "<Figure size 432x288 with 2 Axes>"
      ]
     },
     "metadata": {
      "needs_background": "light"
     },
     "output_type": "display_data"
    }
   ],
   "source": [
    "data['Price'].hist(by=data['Year'])\n",
    "plt.show();"
   ]
  },
  {
   "cell_type": "markdown",
   "metadata": {},
   "source": [
    "Выборки показателя до и после терапии являются независимыми. Для проверки того, изменились ли, в среднем, цены на недвижимость за 1 год, подойдут следующие критерии:\n",
    "\n",
    "**1) двухвыборочный t-критерий Стьюдента**:\n",
    "- $H_0$: средняя цена в 2001 году равна средней цене в 2002 году\n",
    "- $H_a$: средние цены не равны\n",
    "- предпосылки: предполагается, что распределение показателей в обеих выборках является нормальным, не содержит выбросов, а также то, что обе выборки содержат равное количество наблюдений или дисперсия больше в большей по размеру выборке\n",
    "\n",
    "По гистограммам видно, что распределения не являются нормальными, но при имеющемся объёме выборки мы могли бы пренебречь этим условием, однако по боксплоту видно также, что выборка 2002 года содержит несколько выбросов, а описательная статистика позволяет предположить, что дисперсии выборок сильно отличаются, поэтому вместо классического t-теста я бы использовала t-тест Уэлча."
   ]
  },
  {
   "cell_type": "code",
   "execution_count": 32,
   "metadata": {},
   "outputs": [
    {
     "data": {
      "text/plain": [
       "Ttest_indResult(statistic=-0.8057258725189664, pvalue=0.42305786816462276)"
      ]
     },
     "execution_count": 32,
     "metadata": {},
     "output_type": "execute_result"
    }
   ],
   "source": [
    "stats.ttest_ind(data[data['Year']==2001].Price, data[data['Year']==2002].Price, equal_var=False)"
   ]
  },
  {
   "cell_type": "markdown",
   "metadata": {},
   "source": [
    "На 5%-ном уровне значимости мы не можем отвергнуть нулевую гипотезу, а значит, не можем говорить об изменении средней цены на недвижимость."
   ]
  },
  {
   "cell_type": "markdown",
   "metadata": {},
   "source": [
    "**2) критерий Манна-Уитни**:\n",
    "- $H_0$: функции распределения обеих выборок равны\n",
    "- $H_a$: доминирование одной функции распределения над другой"
   ]
  },
  {
   "cell_type": "code",
   "execution_count": 33,
   "metadata": {},
   "outputs": [
    {
     "data": {
      "text/plain": [
       "MannwhitneyuResult(statistic=1295.5, pvalue=0.7563872675701748)"
      ]
     },
     "execution_count": 33,
     "metadata": {},
     "output_type": "execute_result"
    }
   ],
   "source": [
    "stats.mannwhitneyu(data[data['Year']==2001].Price, data[data['Year']==2002].Price, alternative='two-sided')"
   ]
  },
  {
   "cell_type": "markdown",
   "metadata": {},
   "source": [
    "На 5%-ном уровне значимости мы не можем отвергнуть гипотезу о равенстве функций распределения, а значит, не можем говорить о доминировании одной функции над другой. Конечно, строго говоря, критерий Манна-Уитни не позволяет ответить на вопрос об изменении средней цены, но при нарушении предпосылок для t-теста Стьюдента часто используется как его непараметрическая альтернатива."
   ]
  },
  {
   "cell_type": "markdown",
   "metadata": {},
   "source": [
    "**3) критерий Колмогорова-Смирнова**:\n",
    "- $H_0$: функции распределения обеих выборок равны\n",
    "- $H_a$: функции распределения не равны"
   ]
  },
  {
   "cell_type": "code",
   "execution_count": 34,
   "metadata": {},
   "outputs": [
    {
     "data": {
      "text/plain": [
       "KstestResult(statistic=0.14, pvalue=0.7166468440414822)"
      ]
     },
     "execution_count": 34,
     "metadata": {},
     "output_type": "execute_result"
    }
   ],
   "source": [
    "stats.ks_2samp(data[data['Year']==2001].Price, data[data['Year']==2002].Price)"
   ]
  },
  {
   "cell_type": "markdown",
   "metadata": {},
   "source": [
    "На 5%-ном уровне значимости мы не можем отвергнуть гипотезу о равенстве функций распределения. Конечно, строго говоря, критерий Колмогорова-Смирнова не позволяет ответить на вопрос об изменении средней цены, но тем не менее, он является одним из критериев однородности для двух независимых выборок."
   ]
  },
  {
   "cell_type": "markdown",
   "metadata": {},
   "source": [
    "В целом, по результатам анализа я бы сказала, что, в среднем, цена на недвижимость в 2002 году по сравнению с 2001 г. не изменилась значимым образом."
   ]
  },
  {
   "cell_type": "markdown",
   "metadata": {},
   "source": [
    "### **Задание 6**"
   ]
  },
  {
   "cell_type": "code",
   "execution_count": 35,
   "metadata": {},
   "outputs": [
    {
     "data": {
      "text/plain": [
       "Index(['Placebo', 'Methylphenidate'], dtype='object')"
      ]
     },
     "execution_count": 35,
     "metadata": {},
     "output_type": "execute_result"
    }
   ],
   "source": [
    "data = pd.read_csv('methylphenidate.txt', delimiter = \" \")\n",
    "data.columns"
   ]
  },
  {
   "cell_type": "code",
   "execution_count": 36,
   "metadata": {},
   "outputs": [
    {
     "data": {
      "text/html": [
       "<div>\n",
       "<style scoped>\n",
       "    .dataframe tbody tr th:only-of-type {\n",
       "        vertical-align: middle;\n",
       "    }\n",
       "\n",
       "    .dataframe tbody tr th {\n",
       "        vertical-align: top;\n",
       "    }\n",
       "\n",
       "    .dataframe thead th {\n",
       "        text-align: right;\n",
       "    }\n",
       "</style>\n",
       "<table border=\"1\" class=\"dataframe\">\n",
       "  <thead>\n",
       "    <tr style=\"text-align: right;\">\n",
       "      <th></th>\n",
       "      <th>Placebo</th>\n",
       "      <th>Methylphenidate</th>\n",
       "    </tr>\n",
       "  </thead>\n",
       "  <tbody>\n",
       "    <tr>\n",
       "      <th>count</th>\n",
       "      <td>24.000000</td>\n",
       "      <td>24.000000</td>\n",
       "    </tr>\n",
       "    <tr>\n",
       "      <th>mean</th>\n",
       "      <td>39.750000</td>\n",
       "      <td>44.708333</td>\n",
       "    </tr>\n",
       "    <tr>\n",
       "      <th>std</th>\n",
       "      <td>11.314669</td>\n",
       "      <td>12.319935</td>\n",
       "    </tr>\n",
       "    <tr>\n",
       "      <th>min</th>\n",
       "      <td>26.000000</td>\n",
       "      <td>29.000000</td>\n",
       "    </tr>\n",
       "    <tr>\n",
       "      <th>25%</th>\n",
       "      <td>33.000000</td>\n",
       "      <td>35.000000</td>\n",
       "    </tr>\n",
       "    <tr>\n",
       "      <th>50%</th>\n",
       "      <td>36.000000</td>\n",
       "      <td>42.500000</td>\n",
       "    </tr>\n",
       "    <tr>\n",
       "      <th>75%</th>\n",
       "      <td>44.500000</td>\n",
       "      <td>52.500000</td>\n",
       "    </tr>\n",
       "    <tr>\n",
       "      <th>max</th>\n",
       "      <td>71.000000</td>\n",
       "      <td>77.000000</td>\n",
       "    </tr>\n",
       "  </tbody>\n",
       "</table>\n",
       "</div>"
      ],
      "text/plain": [
       "         Placebo  Methylphenidate\n",
       "count  24.000000        24.000000\n",
       "mean   39.750000        44.708333\n",
       "std    11.314669        12.319935\n",
       "min    26.000000        29.000000\n",
       "25%    33.000000        35.000000\n",
       "50%    36.000000        42.500000\n",
       "75%    44.500000        52.500000\n",
       "max    71.000000        77.000000"
      ]
     },
     "execution_count": 36,
     "metadata": {},
     "output_type": "execute_result"
    }
   ],
   "source": [
    "data.describe()"
   ]
  },
  {
   "cell_type": "code",
   "execution_count": 37,
   "metadata": {},
   "outputs": [
    {
     "data": {
      "image/png": "[encoded data removed]",
      "text/plain": [
       "<Figure size 432x288 with 1 Axes>"
      ]
     },
     "metadata": {
      "needs_background": "light"
     },
     "output_type": "display_data"
    }
   ],
   "source": [
    "sns.boxplot(data=data)\n",
    "plt.show();"
   ]
  },
  {
   "cell_type": "code",
   "execution_count": 38,
   "metadata": {},
   "outputs": [
    {
     "data": {
      "image/png": "[encoded data removed]",
      "text/plain": [
       "<Figure size 432x288 with 1 Axes>"
      ]
     },
     "metadata": {
      "needs_background": "light"
     },
     "output_type": "display_data"
    }
   ],
   "source": [
    "plt.hist(data)\n",
    "plt.legend(data.columns)\n",
    "plt.show();"
   ]
  },
  {
   "cell_type": "markdown",
   "metadata": {},
   "source": [
    "Выборки результатов терапии с плацебо и метилфенидатом являются связными. Для проверки того, была ли эффект от применения метилфенидата, подойдут следующие критерии:\n",
    "\n",
    "**1) t-критерий Стьюдента для связных выборок**:\n",
    "- $H_0$: среднее значение показателя для способности подавления нежелательных реакций в случае приёма метилфенидата и плацебо равны\n",
    "- $H_a$: средние значения не равны\n",
    "- предпосылки: предполагается, что распределение разницы между парными выборками имеет нормальное распределение\n",
    "\n",
    "Для начала проверим, выполняется ли предпосылка о нормальности распределения разницы."
   ]
  },
  {
   "cell_type": "code",
   "execution_count": 39,
   "metadata": {},
   "outputs": [
    {
     "data": {
      "image/png": "[encoded data removed]",
      "text/plain": [
       "<Figure size 432x288 with 1 Axes>"
      ]
     },
     "metadata": {
      "needs_background": "light"
     },
     "output_type": "display_data"
    }
   ],
   "source": [
    "plt.hist(data['Placebo']-data['Methylphenidate'])\n",
    "plt.show();"
   ]
  },
  {
   "cell_type": "code",
   "execution_count": 40,
   "metadata": {},
   "outputs": [
    {
     "data": {
      "image/png": "[encoded data removed]",
      "text/plain": [
       "<Figure size 432x288 with 1 Axes>"
      ]
     },
     "metadata": {
      "needs_background": "light"
     },
     "output_type": "display_data"
    }
   ],
   "source": [
    "sns.boxplot(data=data['Placebo']-data['Methylphenidate'])\n",
    "plt.show();"
   ]
  },
  {
   "cell_type": "code",
   "execution_count": 41,
   "metadata": {},
   "outputs": [
    {
     "data": {
      "image/png": "[encoded data removed]",
      "text/plain": [
       "<Figure size 432x288 with 1 Axes>"
      ]
     },
     "metadata": {
      "needs_background": "light"
     },
     "output_type": "display_data"
    }
   ],
   "source": [
    "qqplot(data['Placebo']-data['Methylphenidate'], line='s')\n",
    "plt.show();"
   ]
  },
  {
   "cell_type": "code",
   "execution_count": 42,
   "metadata": {},
   "outputs": [
    {
     "data": {
      "text/plain": [
       "ShapiroResult(statistic=0.9798052906990051, pvalue=0.8922504186630249)"
      ]
     },
     "execution_count": 42,
     "metadata": {},
     "output_type": "execute_result"
    }
   ],
   "source": [
    "stats.shapiro(data['Placebo']-data['Methylphenidate'])"
   ]
  },
  {
   "cell_type": "markdown",
   "metadata": {},
   "source": [
    "На 5%-ном уровне значимости мы не можем отвергнуть гипотезу о нормальности распределения, и по QQ-графику отклонения от нормального распределения минимальны. Поэтому формально мы можем использовать t-тест Стьюдента."
   ]
  },
  {
   "cell_type": "code",
   "execution_count": 43,
   "metadata": {},
   "outputs": [
    {
     "data": {
      "text/plain": [
       "Ttest_relResult(statistic=-3.2223624451230406, pvalue=0.003771488176381471)"
      ]
     },
     "execution_count": 43,
     "metadata": {},
     "output_type": "execute_result"
    }
   ],
   "source": [
    "stats.ttest_rel(data['Placebo'], data['Methylphenidate'])"
   ]
  },
  {
   "cell_type": "markdown",
   "metadata": {},
   "source": [
    "На 5%-ном уровне значимости мы можем отвергнуть гипотезу о различиях в средней способности сдерживать импульсивные реакции. Поскольку мы предполагаем, что препарат должен эти способности улучшать, мы можем применить критерий с одностронней альтернативой о том, что в случае приёма метилфенидата среднее значение было выше, чем в случае приёма плацебо."
   ]
  },
  {
   "cell_type": "code",
   "execution_count": 44,
   "metadata": {},
   "outputs": [
    {
     "data": {
      "text/plain": [
       "Ttest_relResult(statistic=-3.2223624451230406, pvalue=0.0018857440881907355)"
      ]
     },
     "execution_count": 44,
     "metadata": {},
     "output_type": "execute_result"
    }
   ],
   "source": [
    "stats.ttest_rel(data['Placebo'], data['Methylphenidate'], alternative='less')"
   ]
  },
  {
   "cell_type": "markdown",
   "metadata": {},
   "source": [
    "Таким образом, на 5%-ном уровне значимости мы можем отвергнуть нулевую гипотезу в пользу альтернативы, что при использовании метилфенидата у пациентов, в среднем, повышается способность сдерживать нежелательные реакции."
   ]
  },
  {
   "cell_type": "markdown",
   "metadata": {},
   "source": [
    "**2) критерий знаков (непараметрический)**:\n",
    "- $H_0$: разница между медианами способности сдерживать нежелательные реакции при использовании плацебо и метилфенидата равна нулю (иными словами, медианы равны)\n",
    "- $H_a$: разница между медианами не равна 0"
   ]
  },
  {
   "cell_type": "code",
   "execution_count": 47,
   "metadata": {},
   "outputs": [
    {
     "data": {
      "text/plain": [
       "(-5.0, 0.06391465663909912)"
      ]
     },
     "execution_count": 47,
     "metadata": {},
     "output_type": "execute_result"
    }
   ],
   "source": [
    "sign_test(data['Placebo']-data['Methylphenidate'])"
   ]
  },
  {
   "cell_type": "markdown",
   "metadata": {},
   "source": [
    "На 5%-ном уровне значимости мы не можем отвергнуть нулевую гипотезу в пользу альтернативы о неравенстве медиан. Однако видно, что фактический уровень значимости довольно близок к пороговому - посмотрим, получится ли отвергнуть нулевую гипотезу в пользу альтернативы о превышении медианы способности контролировать реакции при использовании метилфенидата по сравнению с плацебо. Это можно сделать с помощью одновыборочного биномиального теста для доли, который позволит протестировать гипотезу о том, что доля наблюдений, в которых результат для метилфенидата превышает результат для плацебо среди всех наблюдений, больше 0.5. Применяется именно этот тест, т.к. в случае справедливости нулевой гипотезы в критерии знаков предполагается, что тестовая статистика, равная количеству наблюдений, в которых результат для метилфенидата превышает результат для плацебо, имеет биномиальное распределение с количеством наблюдений, равным размеру выборки, и вероятности успеха 0.5."
   ]
  },
  {
   "cell_type": "code",
   "execution_count": 50,
   "metadata": {},
   "outputs": [
    {
     "data": {
      "text/plain": [
       "0.03195732831954956"
      ]
     },
     "execution_count": 50,
     "metadata": {},
     "output_type": "execute_result"
    }
   ],
   "source": [
    "stats.binom_test(np.sum(data['Methylphenidate'] > data['Placebo']), data.shape[0]), 0.5, alternative = 'greater')"
   ]
  },
  {
   "cell_type": "markdown",
   "metadata": {},
   "source": [
    "Да, на 5%-ном уровне значимости мы можем отвергнуть гипотезу о равенстве медиан в пользу превышения медианы при использовании метифендиата над медианой при приёме плацебо."
   ]
  },
  {
   "cell_type": "markdown",
   "metadata": {},
   "source": [
    "**3) критерий знаковых рангов Вилкоксона (непараметрический)**:\n",
    "- $H_0$: системный сдвиг в разнице между способностью сдердивать импульсивные реакции при использовании плацебо и метифенидата равен нулю\n",
    "- $H_a$: системный сдвиг не равен нулю\n",
    "- предпосылки: предполагается, что распределение разницы между связными выборками является симметричным\n",
    "\n",
    "По гистограмме выше видно, что распределение не является симметричным, поэтому я бы не стала применять критерий Вилкоксона - в данном случае вполне достаточно параметрического t-теста Стьюдента (и предпосылки его не нарушаются, и мощность у него больше)."
   ]
  },
  {
   "cell_type": "markdown",
   "metadata": {},
   "source": [
    "В целом, по результатам анализа можно сделать вывод о том, что приём метилфенидата был связан с получением более высоких оценок способности сдерживать импульсивные реакции по сравнению с плацебо - иными словами, препарат был эффективен."
   ]
  },
  {
   "cell_type": "markdown",
   "metadata": {},
   "source": [
    "### **Задание 7**"
   ]
  },
  {
   "cell_type": "code",
   "execution_count": 54,
   "metadata": {},
   "outputs": [
    {
     "data": {
      "text/plain": [
       "Index(['Unnamed: 0', 'mpg', 'cyl', 'disp', 'hp', 'drat', 'wt', 'qsec', 'vs',\n",
       "       'am', 'gear', 'carb'],\n",
       "      dtype='object')"
      ]
     },
     "execution_count": 54,
     "metadata": {},
     "output_type": "execute_result"
    }
   ],
   "source": [
    "data = pd.read_csv('mtcars.csv', index_col=False)\n",
    "data.columns"
   ]
  },
  {
   "cell_type": "code",
   "execution_count": 55,
   "metadata": {},
   "outputs": [],
   "source": [
    "data.drop('Unnamed: 0', axis=1, inplace=True)"
   ]
  },
  {
   "cell_type": "code",
   "execution_count": 56,
   "metadata": {},
   "outputs": [
    {
     "data": {
      "text/html": [
       "<div>\n",
       "<style scoped>\n",
       "    .dataframe tbody tr th:only-of-type {\n",
       "        vertical-align: middle;\n",
       "    }\n",
       "\n",
       "    .dataframe tbody tr th {\n",
       "        vertical-align: top;\n",
       "    }\n",
       "\n",
       "    .dataframe thead th {\n",
       "        text-align: right;\n",
       "    }\n",
       "</style>\n",
       "<table border=\"1\" class=\"dataframe\">\n",
       "  <thead>\n",
       "    <tr style=\"text-align: right;\">\n",
       "      <th></th>\n",
       "      <th>mpg</th>\n",
       "      <th>cyl</th>\n",
       "      <th>disp</th>\n",
       "      <th>hp</th>\n",
       "      <th>drat</th>\n",
       "      <th>wt</th>\n",
       "      <th>qsec</th>\n",
       "      <th>vs</th>\n",
       "      <th>am</th>\n",
       "      <th>gear</th>\n",
       "      <th>carb</th>\n",
       "    </tr>\n",
       "  </thead>\n",
       "  <tbody>\n",
       "    <tr>\n",
       "      <th>count</th>\n",
       "      <td>32.000000</td>\n",
       "      <td>32.000000</td>\n",
       "      <td>32.000000</td>\n",
       "      <td>32.000000</td>\n",
       "      <td>32.000000</td>\n",
       "      <td>32.000000</td>\n",
       "      <td>32.000000</td>\n",
       "      <td>32.000000</td>\n",
       "      <td>32.000000</td>\n",
       "      <td>32.000000</td>\n",
       "      <td>32.0000</td>\n",
       "    </tr>\n",
       "    <tr>\n",
       "      <th>mean</th>\n",
       "      <td>20.090625</td>\n",
       "      <td>6.187500</td>\n",
       "      <td>230.721875</td>\n",
       "      <td>146.687500</td>\n",
       "      <td>3.596563</td>\n",
       "      <td>3.217250</td>\n",
       "      <td>17.848750</td>\n",
       "      <td>0.437500</td>\n",
       "      <td>0.406250</td>\n",
       "      <td>3.687500</td>\n",
       "      <td>2.8125</td>\n",
       "    </tr>\n",
       "    <tr>\n",
       "      <th>std</th>\n",
       "      <td>6.026948</td>\n",
       "      <td>1.785922</td>\n",
       "      <td>123.938694</td>\n",
       "      <td>68.562868</td>\n",
       "      <td>0.534679</td>\n",
       "      <td>0.978457</td>\n",
       "      <td>1.786943</td>\n",
       "      <td>0.504016</td>\n",
       "      <td>0.498991</td>\n",
       "      <td>0.737804</td>\n",
       "      <td>1.6152</td>\n",
       "    </tr>\n",
       "    <tr>\n",
       "      <th>min</th>\n",
       "      <td>10.400000</td>\n",
       "      <td>4.000000</td>\n",
       "      <td>71.100000</td>\n",
       "      <td>52.000000</td>\n",
       "      <td>2.760000</td>\n",
       "      <td>1.513000</td>\n",
       "      <td>14.500000</td>\n",
       "      <td>0.000000</td>\n",
       "      <td>0.000000</td>\n",
       "      <td>3.000000</td>\n",
       "      <td>1.0000</td>\n",
       "    </tr>\n",
       "    <tr>\n",
       "      <th>25%</th>\n",
       "      <td>15.425000</td>\n",
       "      <td>4.000000</td>\n",
       "      <td>120.825000</td>\n",
       "      <td>96.500000</td>\n",
       "      <td>3.080000</td>\n",
       "      <td>2.581250</td>\n",
       "      <td>16.892500</td>\n",
       "      <td>0.000000</td>\n",
       "      <td>0.000000</td>\n",
       "      <td>3.000000</td>\n",
       "      <td>2.0000</td>\n",
       "    </tr>\n",
       "    <tr>\n",
       "      <th>50%</th>\n",
       "      <td>19.200000</td>\n",
       "      <td>6.000000</td>\n",
       "      <td>196.300000</td>\n",
       "      <td>123.000000</td>\n",
       "      <td>3.695000</td>\n",
       "      <td>3.325000</td>\n",
       "      <td>17.710000</td>\n",
       "      <td>0.000000</td>\n",
       "      <td>0.000000</td>\n",
       "      <td>4.000000</td>\n",
       "      <td>2.0000</td>\n",
       "    </tr>\n",
       "    <tr>\n",
       "      <th>75%</th>\n",
       "      <td>22.800000</td>\n",
       "      <td>8.000000</td>\n",
       "      <td>326.000000</td>\n",
       "      <td>180.000000</td>\n",
       "      <td>3.920000</td>\n",
       "      <td>3.610000</td>\n",
       "      <td>18.900000</td>\n",
       "      <td>1.000000</td>\n",
       "      <td>1.000000</td>\n",
       "      <td>4.000000</td>\n",
       "      <td>4.0000</td>\n",
       "    </tr>\n",
       "    <tr>\n",
       "      <th>max</th>\n",
       "      <td>33.900000</td>\n",
       "      <td>8.000000</td>\n",
       "      <td>472.000000</td>\n",
       "      <td>335.000000</td>\n",
       "      <td>4.930000</td>\n",
       "      <td>5.424000</td>\n",
       "      <td>22.900000</td>\n",
       "      <td>1.000000</td>\n",
       "      <td>1.000000</td>\n",
       "      <td>5.000000</td>\n",
       "      <td>8.0000</td>\n",
       "    </tr>\n",
       "  </tbody>\n",
       "</table>\n",
       "</div>"
      ],
      "text/plain": [
       "             mpg        cyl        disp          hp       drat         wt  \\\n",
       "count  32.000000  32.000000   32.000000   32.000000  32.000000  32.000000   \n",
       "mean   20.090625   6.187500  230.721875  146.687500   3.596563   3.217250   \n",
       "std     6.026948   1.785922  123.938694   68.562868   0.534679   0.978457   \n",
       "min    10.400000   4.000000   71.100000   52.000000   2.760000   1.513000   \n",
       "25%    15.425000   4.000000  120.825000   96.500000   3.080000   2.581250   \n",
       "50%    19.200000   6.000000  196.300000  123.000000   3.695000   3.325000   \n",
       "75%    22.800000   8.000000  326.000000  180.000000   3.920000   3.610000   \n",
       "max    33.900000   8.000000  472.000000  335.000000   4.930000   5.424000   \n",
       "\n",
       "            qsec         vs         am       gear     carb  \n",
       "count  32.000000  32.000000  32.000000  32.000000  32.0000  \n",
       "mean   17.848750   0.437500   0.406250   3.687500   2.8125  \n",
       "std     1.786943   0.504016   0.498991   0.737804   1.6152  \n",
       "min    14.500000   0.000000   0.000000   3.000000   1.0000  \n",
       "25%    16.892500   0.000000   0.000000   3.000000   2.0000  \n",
       "50%    17.710000   0.000000   0.000000   4.000000   2.0000  \n",
       "75%    18.900000   1.000000   1.000000   4.000000   4.0000  \n",
       "max    22.900000   1.000000   1.000000   5.000000   8.0000  "
      ]
     },
     "execution_count": 56,
     "metadata": {},
     "output_type": "execute_result"
    }
   ],
   "source": [
    "data.describe()"
   ]
  },
  {
   "cell_type": "code",
   "execution_count": 65,
   "metadata": {},
   "outputs": [
    {
     "data": {
      "image/png": "[encoded data removed]",
      "text/plain": [
       "<Figure size 1008x360 with 2 Axes>"
      ]
     },
     "metadata": {
      "needs_background": "light"
     },
     "output_type": "display_data"
    }
   ],
   "source": [
    "fig, ax = plt.subplots(1, 2, figsize=(14, 5))\n",
    "\n",
    "sns.boxplot(ax=ax[0], x='vs', y='mpg', data=data).set(xlabel='Тип двигателя',\n",
    "                                            ylabel='Расход топлива, миль/галлон',\n",
    "                                            xticklabels=['V-образный', 'Рядный'])\n",
    "\n",
    "sns.boxplot(ax=ax[1], x='am', y='mpg', data=data).set(xlabel='Тип коробки передач',\n",
    "                                            ylabel='Расход топлива, миль/галлон',\n",
    "                                            xticklabels=['Автоматическая', 'Ручная']);"
   ]
  },
  {
   "cell_type": "code",
   "execution_count": 76,
   "metadata": {},
   "outputs": [
    {
     "data": {
      "image/png": "[encoded data removed]",
      "text/plain": [
       "<Figure size 1008x360 with 2 Axes>"
      ]
     },
     "metadata": {
      "needs_background": "light"
     },
     "output_type": "display_data"
    }
   ],
   "source": [
    "fig, ax = plt.subplots(1, 2, figsize=(14, 5))\n",
    "\n",
    "sns.histplot(ax=ax[0], multiple='dodge',\n",
    "             x='mpg', hue='vs', data=data).set(xlabel='Расход топлива, миль/галлон',\n",
    "                                              ylabel='Кол-во наблюдений')\n",
    "ax[0].legend(title='Тип двигателя', labels=['V-образный', 'Рядный'])\n",
    "\n",
    "sns.histplot(ax=ax[1], multiple='dodge',\n",
    "             x='mpg', hue='am', data=data).set(xlabel='Расход топлива, миль/галлон',\n",
    "                                              ylabel='Кол-во наблюдений')\n",
    "ax[1].legend(title='Тип коробки передач', labels=['Автоматическая', 'Ручная']);"
   ]
  },
  {
   "cell_type": "code",
   "execution_count": 77,
   "metadata": {},
   "outputs": [
    {
     "data": {
      "text/html": [
       "<div>\n",
       "<style scoped>\n",
       "    .dataframe tbody tr th:only-of-type {\n",
       "        vertical-align: middle;\n",
       "    }\n",
       "\n",
       "    .dataframe tbody tr th {\n",
       "        vertical-align: top;\n",
       "    }\n",
       "\n",
       "    .dataframe thead th {\n",
       "        text-align: right;\n",
       "    }\n",
       "</style>\n",
       "<table border=\"1\" class=\"dataframe\">\n",
       "  <thead>\n",
       "    <tr style=\"text-align: right;\">\n",
       "      <th></th>\n",
       "      <th>count</th>\n",
       "      <th>mean</th>\n",
       "      <th>std</th>\n",
       "      <th>min</th>\n",
       "      <th>25%</th>\n",
       "      <th>50%</th>\n",
       "      <th>75%</th>\n",
       "      <th>max</th>\n",
       "    </tr>\n",
       "    <tr>\n",
       "      <th>vs</th>\n",
       "      <th></th>\n",
       "      <th></th>\n",
       "      <th></th>\n",
       "      <th></th>\n",
       "      <th></th>\n",
       "      <th></th>\n",
       "      <th></th>\n",
       "      <th></th>\n",
       "    </tr>\n",
       "  </thead>\n",
       "  <tbody>\n",
       "    <tr>\n",
       "      <th>0</th>\n",
       "      <td>18.0</td>\n",
       "      <td>16.616667</td>\n",
       "      <td>3.860699</td>\n",
       "      <td>10.4</td>\n",
       "      <td>14.775</td>\n",
       "      <td>15.65</td>\n",
       "      <td>19.075</td>\n",
       "      <td>26.0</td>\n",
       "    </tr>\n",
       "    <tr>\n",
       "      <th>1</th>\n",
       "      <td>14.0</td>\n",
       "      <td>24.557143</td>\n",
       "      <td>5.378978</td>\n",
       "      <td>17.8</td>\n",
       "      <td>21.400</td>\n",
       "      <td>22.80</td>\n",
       "      <td>29.625</td>\n",
       "      <td>33.9</td>\n",
       "    </tr>\n",
       "  </tbody>\n",
       "</table>\n",
       "</div>"
      ],
      "text/plain": [
       "    count       mean       std   min     25%    50%     75%   max\n",
       "vs                                                               \n",
       "0    18.0  16.616667  3.860699  10.4  14.775  15.65  19.075  26.0\n",
       "1    14.0  24.557143  5.378978  17.8  21.400  22.80  29.625  33.9"
      ]
     },
     "execution_count": 77,
     "metadata": {},
     "output_type": "execute_result"
    }
   ],
   "source": [
    "data.groupby('vs').mpg.describe()"
   ]
  },
  {
   "cell_type": "code",
   "execution_count": 78,
   "metadata": {},
   "outputs": [
    {
     "data": {
      "text/html": [
       "<div>\n",
       "<style scoped>\n",
       "    .dataframe tbody tr th:only-of-type {\n",
       "        vertical-align: middle;\n",
       "    }\n",
       "\n",
       "    .dataframe tbody tr th {\n",
       "        vertical-align: top;\n",
       "    }\n",
       "\n",
       "    .dataframe thead th {\n",
       "        text-align: right;\n",
       "    }\n",
       "</style>\n",
       "<table border=\"1\" class=\"dataframe\">\n",
       "  <thead>\n",
       "    <tr style=\"text-align: right;\">\n",
       "      <th></th>\n",
       "      <th>count</th>\n",
       "      <th>mean</th>\n",
       "      <th>std</th>\n",
       "      <th>min</th>\n",
       "      <th>25%</th>\n",
       "      <th>50%</th>\n",
       "      <th>75%</th>\n",
       "      <th>max</th>\n",
       "    </tr>\n",
       "    <tr>\n",
       "      <th>am</th>\n",
       "      <th></th>\n",
       "      <th></th>\n",
       "      <th></th>\n",
       "      <th></th>\n",
       "      <th></th>\n",
       "      <th></th>\n",
       "      <th></th>\n",
       "      <th></th>\n",
       "    </tr>\n",
       "  </thead>\n",
       "  <tbody>\n",
       "    <tr>\n",
       "      <th>0</th>\n",
       "      <td>19.0</td>\n",
       "      <td>17.147368</td>\n",
       "      <td>3.833966</td>\n",
       "      <td>10.4</td>\n",
       "      <td>14.95</td>\n",
       "      <td>17.3</td>\n",
       "      <td>19.2</td>\n",
       "      <td>24.4</td>\n",
       "    </tr>\n",
       "    <tr>\n",
       "      <th>1</th>\n",
       "      <td>13.0</td>\n",
       "      <td>24.392308</td>\n",
       "      <td>6.166504</td>\n",
       "      <td>15.0</td>\n",
       "      <td>21.00</td>\n",
       "      <td>22.8</td>\n",
       "      <td>30.4</td>\n",
       "      <td>33.9</td>\n",
       "    </tr>\n",
       "  </tbody>\n",
       "</table>\n",
       "</div>"
      ],
      "text/plain": [
       "    count       mean       std   min    25%   50%   75%   max\n",
       "am                                                           \n",
       "0    19.0  17.147368  3.833966  10.4  14.95  17.3  19.2  24.4\n",
       "1    13.0  24.392308  6.166504  15.0  21.00  22.8  30.4  33.9"
      ]
     },
     "execution_count": 78,
     "metadata": {},
     "output_type": "execute_result"
    }
   ],
   "source": [
    "data.groupby('am').mpg.describe()"
   ]
  },
  {
   "cell_type": "markdown",
   "metadata": {},
   "source": [
    "Выборки значений расхода топлива в зависимости от типа двигателя и типа коробки передач являются независимыми. Для проверки того, отличается ли расход толпива в зависимости от этиъ характеристик, подойдут следующие критерии:\n",
    "\n",
    "**1) двухвыборочный t-критерий Стьюдента**:\n",
    "- $H_0$: средний расход топлива одинаков для обоих типов двигателя/ обоих типов коробки передач\n",
    "- $H_a$: средний расход топлива разный\n",
    "- предпосылки: предполагается, что распределение показателей в обеих выборках является нормальным, не содержит выбросов, а также то, что обе выборки содержат равное количество наблюдений или дисперсия больше в большей по размеру выборке\n",
    "\n",
    "Ниже тесты показывают, что распределения являются нормальными, но вот предпосылка о том, что дисперсия больше в большей по размеру выборке, нарушается (это видно по таблицам с описательной статистикой, приведенным выше: стандартное отклонение в обоих случаях больше в меньшей выборке). Поэтому, строго говоря, мы не можем применять двухвыборочный t-тест в данном случае."
   ]
  },
  {
   "cell_type": "code",
   "execution_count": 110,
   "metadata": {},
   "outputs": [
    {
     "data": {
      "image/png": "[encoded data removed]",
      "text/plain": [
       "<Figure size 1008x648 with 4 Axes>"
      ]
     },
     "metadata": {
      "needs_background": "light"
     },
     "output_type": "display_data"
    }
   ],
   "source": [
    "fig, ax = plt.subplots(2, 2, figsize=(14, 9))\n",
    "qqplot(data[data['vs']==0].mpg, line='s', ax=ax[0][0])\n",
    "ax[0][0].text(-1.5, 26, 'V-образный двигатель, \\np-value (Shapiro-Wilk)=' + str(round(stats.shapiro(data[data['vs']==0].mpg)[1],3)), \n",
    "              verticalalignment='top', horizontalalignment='left')\n",
    "qqplot(data[data['vs']==1].mpg, line='s', ax=ax[0][1])\n",
    "ax[0][1].text(-1.5, 34, 'Рядный двигатель, \\np-value (Shapiro-Wilk)=' + str(round(stats.shapiro(data[data['vs']==1].mpg)[1],3)), \n",
    "              verticalalignment='top', horizontalalignment='left')\n",
    "qqplot(data[data['am']==0].mpg, line='s', ax=ax[1][0])\n",
    "ax[1][0].text(-1.5, 24.5, 'Автоматическая КП, \\np-value (Shapiro-Wilk)=' + str(round(stats.shapiro(data[data['am']==0].mpg)[1],3)), \n",
    "              verticalalignment='top', horizontalalignment='left')\n",
    "qqplot(data[data['am']==1].mpg, line='s', ax=ax[1][1])\n",
    "ax[1][1].text(-1.5, 34, 'Ручная КП, \\np-value (Shapiro-Wilk)=' + str(round(stats.shapiro(data[data['am']==1].mpg)[1],3)), \n",
    "              verticalalignment='top', horizontalalignment='left')\n",
    "plt.show();"
   ]
  },
  {
   "cell_type": "markdown",
   "metadata": {},
   "source": [
    "**2) критерий Манна-Уитни**:\n",
    "- $H_0$: функции распределения обеих выборок равны\n",
    "- $H_a$: доминирование одной функции распределения над другой"
   ]
  },
  {
   "cell_type": "code",
   "execution_count": 111,
   "metadata": {},
   "outputs": [
    {
     "data": {
      "text/plain": [
       "MannwhitneyuResult(statistic=22.5, pvalue=9.034471700053182e-05)"
      ]
     },
     "execution_count": 111,
     "metadata": {},
     "output_type": "execute_result"
    }
   ],
   "source": [
    "stats.mannwhitneyu(data[data['vs']==0].mpg, data[data['vs']==1].mpg, alternative='two-sided')"
   ]
  },
  {
   "cell_type": "code",
   "execution_count": 112,
   "metadata": {},
   "outputs": [
    {
     "data": {
      "text/plain": [
       "MannwhitneyuResult(statistic=42.0, pvalue=0.0018713913331785542)"
      ]
     },
     "execution_count": 112,
     "metadata": {},
     "output_type": "execute_result"
    }
   ],
   "source": [
    "stats.mannwhitneyu(data[data['am']==0].mpg, data[data['am']==1].mpg, alternative='two-sided')"
   ]
  },
  {
   "cell_type": "markdown",
   "metadata": {},
   "source": [
    "На 5%-ном уровне значимости мы не можем отвергнуть гипотезу о равенстве функций распределения расхода топлива для разных двигателей и для разных коробок передач, а значит, можем говорить о доминировании одной функции над другой. Если судить по боксплотам и описательной статистике, то доминирует распределение для рядного двигателя по сравнению с V-образным, а также распределение для ручной коробки передач по сравнению с автоматической. Можно проверить это с помощью теста с односторонней альтернативой."
   ]
  },
  {
   "cell_type": "code",
   "execution_count": 115,
   "metadata": {},
   "outputs": [
    {
     "data": {
      "text/plain": [
       "MannwhitneyuResult(statistic=22.5, pvalue=4.517235850026591e-05)"
      ]
     },
     "execution_count": 115,
     "metadata": {},
     "output_type": "execute_result"
    }
   ],
   "source": [
    "stats.mannwhitneyu(data[data['vs']==0].mpg, data[data['vs']==1].mpg, alternative='less')"
   ]
  },
  {
   "cell_type": "code",
   "execution_count": 116,
   "metadata": {},
   "outputs": [
    {
     "data": {
      "text/plain": [
       "MannwhitneyuResult(statistic=42.0, pvalue=0.0009356956665892771)"
      ]
     },
     "execution_count": 116,
     "metadata": {},
     "output_type": "execute_result"
    }
   ],
   "source": [
    "stats.mannwhitneyu(data[data['am']==0].mpg, data[data['am']==1].mpg, alternative='less')"
   ]
  },
  {
   "cell_type": "markdown",
   "metadata": {},
   "source": [
    "**3) критерий Колмогорова-Смирнова**:\n",
    "- $H_0$: функции распределения обеих выборок равны\n",
    "- $H_a$: функции распределения не равны"
   ]
  },
  {
   "cell_type": "code",
   "execution_count": 113,
   "metadata": {},
   "outputs": [
    {
     "data": {
      "text/plain": [
       "KstestResult(statistic=0.7301587301587301, pvalue=0.0001328071108758211)"
      ]
     },
     "execution_count": 113,
     "metadata": {},
     "output_type": "execute_result"
    }
   ],
   "source": [
    "stats.ks_2samp(data[data['vs']==0].mpg, data[data['vs']==1].mpg)"
   ]
  },
  {
   "cell_type": "code",
   "execution_count": 114,
   "metadata": {},
   "outputs": [
    {
     "data": {
      "text/plain": [
       "KstestResult(statistic=0.6356275303643725, pvalue=0.00194012440784197)"
      ]
     },
     "execution_count": 114,
     "metadata": {},
     "output_type": "execute_result"
    }
   ],
   "source": [
    "stats.ks_2samp(data[data['am']==0].mpg, data[data['am']==1].mpg)"
   ]
  },
  {
   "cell_type": "markdown",
   "metadata": {},
   "source": [
    "На 5%-ном уровне значимости мы не можем отвергнуть гипотезу о равенстве функций распределения."
   ]
  },
  {
   "cell_type": "markdown",
   "metadata": {},
   "source": [
    "В целом, по результатам анализа я бы сказала, что да, расход топлива различается в зависимости от типа двигателя и типа коробки передач."
   ]
  }
 ],
 "metadata": {
  "kernelspec": {
   "display_name": "Python 3 (ipykernel)",
   "language": "python",
   "name": "python3"
  },
  "language_info": {
   "codemirror_mode": {
    "name": "ipython",
    "version": 3
   },
   "file_extension": ".py",
   "mimetype": "text/x-python",
   "name": "python",
   "nbconvert_exporter": "python",
   "pygments_lexer": "ipython3",
   "version": "3.10.1"
  }
 },
 "nbformat": 4,
 "nbformat_minor": 4
}
