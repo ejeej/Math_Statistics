{
 "cells": [
  {
   "cell_type": "markdown",
   "metadata": {},
   "source": [
    "### **Задание 1**"
   ]
  },
  {
   "cell_type": "markdown",
   "metadata": {},
   "source": [
    "$x_1$, $x_2$, ..., $x_n$ ~ $N(\\theta, 3)$\n",
    "\n",
    "Оценка $\\hat\\theta$ будет несмещённой, если $\\mathbb{E}[\\hat\\theta(X_1,...,X_n)]=\\theta\\ \\ \\ \\forall\\theta\\in\\mathbb{\\Theta}$.\n",
    "\n",
    "Оценка $\\hat\\theta$ будет состоятельной, если $\\hat\\theta(X_1,...,X_n)\\overset{\\mathbb{P}_\\theta}\\to\\theta$ при $n\\to\\infty\\ \\ \\ \\forall\\theta\\in\\mathbb{\\Theta}$. Для проверки оценок на состоятельность воспользуемся достаточным условием состоятельности, а именно: $\\mathbb{E}[\\hat\\theta(X_1,...,X_n)]\\to\\theta$ и $\\mathbb{V}ar[\\hat\\theta(X_1,...,X_n)]\\to0$ при $n\\to\\infty$.\n",
    "\n",
    "<br>\n",
    "\n",
    "1) $\\mathbb{E}[\\hat\\theta_1(x_1,...,x_n)] = \\mathbb{E}[0] = 0 \\ne \\theta$ - полученное значение никак не зависит от $\\theta$, поэтому для некоторых значений $\\theta$ может быть не равно самому $\\theta$, а значит, эта оценка является смещённой.\n",
    "\n",
    "   Поскольку первая часть достаточного условия состоятельности точно нарушается, т.к. $\\mathbb{E}[\\hat\\theta_1(X_1,...,X_n)]\\not\\to\\theta$ при $n\\to\\infty$, значит, оценка $\\hat\\theta_1$ не является состоятельной.\n",
    "   \n",
    "<br>\n",
    "\n",
    "2) $\\mathbb{E}[\\hat\\theta_2(x_1,...,x_n)] = \\mathbb{E}[2X_n] = 2\\theta \\ne \\theta$ - эта оценка является смещённой.\n",
    "\n",
    "   Здесь также нарушается первая часть достаточного условия состоятельности, т.к. $\\mathbb{E}[\\hat\\theta_2(X_1,...,X_n)]\\not\\to\\theta$ при $n\\to\\infty$, значит, оценка $\\hat\\theta_2$ не является состоятельной.\n",
    "   \n",
    "<br>\n",
    "\n",
    "3) $\\mathbb{E}[\\hat\\theta_3(x_1,...,x_n)] = \\mathbb{E}[2X_2-X_3] = 2\\mathbb{E}[X_2] - \\mathbb{E}[X_3] = 2\\theta - \\theta = \\theta$ - эта оценка является несмещённой.\n",
    "\n",
    "    Первая часть достаточного условия состоятельности выполнена, т.к. $\\mathbb{E}[\\hat\\theta_3(X_1,...,X_n)]\\to\\theta$ при $n\\to\\infty$. Проверим вторую часть условия:\n",
    "    \n",
    "    $\\mathbb{V}ar[\\hat\\theta_3(X_1,...,X_n)] = 4\\mathbb{V}ar[X_2] - \\mathbb{V}ar[X_3] = 4*3 - 3 = 9 = const \\not\\to0$ при $n\\to\\infty$.\n",
    "    \n",
    "    Следовательно, оценка $\\hat\\theta_3$ не является состоятельной.\n",
    "    \n",
    "<br>\n",
    "\n",
    "4) $\\mathbb{E}[\\hat\\theta_4(x_1,...,x_n)] = \\mathbb{E}[(x_1 + ... + x_n)/n] = \\frac{1}{n}\\mathbb{E}[\\sum\\limits_{i=1}^{n}X_{i}] = \\frac{1}{n}\\sum\\limits_{i=1}^{n}\\mathbb{E}[X_{i}] = \\frac{n\\theta}{n} = \\theta$ - эта оценка является несмещённой.\n",
    "\n",
    "    Первая часть достаточного условия состоятельности выполнена, т.к. $\\mathbb{E}[\\hat\\theta_4(X_1,...,X_n)]\\to\\theta$ при $n\\to\\infty$. Проверим вторую часть условия:\n",
    "    \n",
    "    $\\mathbb{V}ar[\\hat\\theta_4(X_1,...,X_n)] = \\mathbb{V}ar[(x_1 + ... + x_n)/n] = \\frac{1}{n^2}\\mathbb{V}ar[\\sum\\limits_{i=1}^{n}X_{i}] = \\frac{1}{n^2}\\sum\\limits_{i=1}^{n}\\mathbb{V}ar[X_{i}] = \\frac{3n}{n^2} = \\frac{3}{n} \\to0$ при $n\\to\\infty$.\n",
    "    \n",
    "    Следовательно, оценка $\\hat\\theta_4$ является состоятельной."
   ]
  },
  {
   "cell_type": "markdown",
   "metadata": {},
   "source": [
    "Рассчитаем приведённые оценки для данной реализации выборки из 10 наблюдений:\\\n",
    "−3.19  2.25  4.64−0.39−1.44−1.87−1.68  0.27  0.43  0.58:\n",
    "\n",
    "$\\hat\\theta_1=0$"
   ]
  },
  {
   "cell_type": "code",
   "execution_count": 1,
   "metadata": {},
   "outputs": [
    {
     "data": {
      "text/latex": [
       "$\\displaystyle \\hat\\theta_2=2x_{10}=1.16$"
      ],
      "text/plain": [
       "<IPython.core.display.Math object>"
      ]
     },
     "metadata": {},
     "output_type": "display_data"
    }
   ],
   "source": [
    "from IPython.display import display, Math\n",
    "x = [-3.19, 2.25, 4.64, -0.39, -1.44, -1.87, -1.68, 0.27, 0.43, 0.58]\n",
    "display(Math('\\\\hat\\\\theta_2=2x_{{10}}={}'.format(2*x[9])))"
   ]
  },
  {
   "cell_type": "code",
   "execution_count": 2,
   "metadata": {},
   "outputs": [
    {
     "data": {
      "text/latex": [
       "$\\displaystyle \\hat\\theta_3=2x_{2}-x_3=-0.14$"
      ],
      "text/plain": [
       "<IPython.core.display.Math object>"
      ]
     },
     "metadata": {},
     "output_type": "display_data"
    }
   ],
   "source": [
    "display(Math('\\\\hat\\\\theta_3=2x_{{2}}-x_3={:1.2f}'.format(2*x[1]-x[2])))"
   ]
  },
  {
   "cell_type": "code",
   "execution_count": 3,
   "metadata": {},
   "outputs": [
    {
     "data": {
      "text/latex": [
       "$\\displaystyle \\hat\\theta_4=\\frac{1}{10}\\sum\\limits_{i=1}^{10}x_i=-0.40$"
      ],
      "text/plain": [
       "<IPython.core.display.Math object>"
      ]
     },
     "metadata": {},
     "output_type": "display_data"
    }
   ],
   "source": [
    "display(Math('\\\\hat\\\\theta_4=\\\\frac{{1}}{{10}}\\\\sum\\\\limits_{{i=1}}^{{10}}x_i={:1.2f}'.format(sum(x))))"
   ]
  },
  {
   "cell_type": "markdown",
   "metadata": {},
   "source": [
    "### **Задание 2**"
   ]
  },
  {
   "cell_type": "markdown",
   "metadata": {},
   "source": [
    "$x_1$, $x_2$, ..., $x_n$ ~ $Unif(\\theta, \\theta+1)$\n",
    "\n",
    "**Оценка методом моментов**:\n",
    "\n",
    "Для равномерного распределения теоретический начальный момент первого порядка:\n",
    "\n",
    "$\\mathbb{E}[X]=\\frac{\\theta+\\theta+1}{2}=\\theta+\\frac{1}{2}$\n",
    "\n",
    "Выборочный начальный момент первого порядка:\n",
    "\n",
    "$\\frac{1}{n}\\sum\\limits_{i=1}^{n}x_i=\\bar{x}$\n",
    "\n",
    "Приравняем их и найдём $\\theta$:\n",
    "\n",
    "$\\theta+\\frac{1}{2}=\\bar{x} \\Rightarrow \\hat\\theta_{ММ} = \\bar{x} - \\frac{1}{2}$"
   ]
  },
  {
   "cell_type": "markdown",
   "metadata": {},
   "source": [
    "**Оценка методом максимального правдоподобия**:\n",
    "\n",
    "Функция плотности для равномерного распределения $Unif(\\theta, \\theta+1)$\n",
    "\n",
    "$f_\\theta(u) = \\begin{cases} \\frac{1}{\\theta+1-\\theta},& u \\in [\\theta,\\theta+1] \\\\ 0,&u \\not\\in [\\theta,\\theta+1] \\end{cases} = \\begin{cases} 1,& u \\in [\\theta,\\theta+1] \\\\ 0,&u \\not\\in [\\theta,\\theta+1] \\end{cases}$\n",
    "\n",
    "Функция правдоподобия:\n",
    "\n",
    "$L(X,\\theta) = \\prod\\limits_{i=1}^{n}f_\\theta(x_i)=\\begin{cases} 1^n,& x_i \\in [\\theta,\\theta+1]&\\forall i \\\\ 0,&\\text{в противном случае} \\end{cases}=\\begin{cases} 1,& x_i \\in [\\theta,\\theta+1]&\\forall i \\\\ 0,&\\text{в противном случае} \\end{cases}=\\begin{cases} 1,& \\theta\\leq x_{(1)}\\leq x_{(n})\\leq\\theta+1 \\\\ 0,&\\text{в противном случае} \\end{cases}=\\begin{cases} 1,& x_{(n)}-1\\leq\\theta\\leq x_{(1)} \\\\ 0,&\\text{в противном случае} \\end{cases},$ где $x_{(1)}$ первый элемент вариационного ряда $x_1, ..., x_n$, а $x_{(n)}$ - последний.\n",
    "\n",
    "Получается, что функция правдоподобия равна положительной константе при $x_{(n)}-1\\leq\\theta\\leq x_{(1)}$ и нулю в остальных случаях - значит, она достигает своего максимума в любой точке отрезка $[x_{(n)}-1,x_{(1)}]$, следовательно $\\hat\\theta_{МП}=(1-\\alpha)(x_{(n)}-1)+\\alpha x_{(1)}$, где $\\alpha\\in [0,1]$."
   ]
  },
  {
   "cell_type": "markdown",
   "metadata": {},
   "source": [
    "### **Задание 3**"
   ]
  },
  {
   "cell_type": "markdown",
   "metadata": {},
   "source": [
    "1) Сгенерируем $\\theta$ из равномерного распределения на отрезке [25, 50]:"
   ]
  },
  {
   "cell_type": "code",
   "execution_count": 4,
   "metadata": {},
   "outputs": [
    {
     "data": {
      "text/plain": [
       "array([42.41172964])"
      ]
     },
     "execution_count": 4,
     "metadata": {},
     "output_type": "execute_result"
    }
   ],
   "source": [
    "import numpy as np\n",
    "\n",
    "np.random.seed(123)\n",
    "theta = np.random.uniform(25, 50, 1)\n",
    "theta"
   ]
  },
  {
   "cell_type": "markdown",
   "metadata": {},
   "source": [
    "2) Сгенерируем выборки из равномерного распределения на отрезке $[0, \\theta]$ разного размера:"
   ]
  },
  {
   "cell_type": "code",
   "execution_count": 5,
   "metadata": {},
   "outputs": [],
   "source": [
    "from scipy import stats\n",
    "\n",
    "undist = stats.uniform(0, theta)\n",
    "\n",
    "n = [10**i for i in range(1,7)]\n",
    "samples = dict()\n",
    "for ns in n:\n",
    "    np.random.seed(123)\n",
    "    samples[ns] = undist.rvs(size=ns, random_state=123)"
   ]
  },
  {
   "cell_type": "markdown",
   "metadata": {},
   "source": [
    "3) Оценка для $\\theta$ методом моментов $\\hat\\theta^{ММ}=2\\bar x$:"
   ]
  },
  {
   "cell_type": "code",
   "execution_count": 6,
   "metadata": {},
   "outputs": [
    {
     "data": {
      "text/latex": [
       "$\\displaystyle \\hat\\theta_{10}^{ММ}=46.16087165724749$"
      ],
      "text/plain": [
       "<IPython.core.display.Math object>"
      ]
     },
     "metadata": {},
     "output_type": "display_data"
    },
    {
     "data": {
      "text/latex": [
       "$\\displaystyle \\hat\\theta_{100}^{ММ}=42.53293218880921$"
      ],
      "text/plain": [
       "<IPython.core.display.Math object>"
      ]
     },
     "metadata": {},
     "output_type": "display_data"
    },
    {
     "data": {
      "text/latex": [
       "$\\displaystyle \\hat\\theta_{1000}^{ММ}=42.35854796391954$"
      ],
      "text/plain": [
       "<IPython.core.display.Math object>"
      ]
     },
     "metadata": {},
     "output_type": "display_data"
    },
    {
     "data": {
      "text/latex": [
       "$\\displaystyle \\hat\\theta_{10000}^{ММ}=42.261689266206595$"
      ],
      "text/plain": [
       "<IPython.core.display.Math object>"
      ]
     },
     "metadata": {},
     "output_type": "display_data"
    },
    {
     "data": {
      "text/latex": [
       "$\\displaystyle \\hat\\theta_{100000}^{ММ}=42.44068896261441$"
      ],
      "text/plain": [
       "<IPython.core.display.Math object>"
      ]
     },
     "metadata": {},
     "output_type": "display_data"
    },
    {
     "data": {
      "text/latex": [
       "$\\displaystyle \\hat\\theta_{1000000}^{ММ}=42.4060836826138$"
      ],
      "text/plain": [
       "<IPython.core.display.Math object>"
      ]
     },
     "metadata": {},
     "output_type": "display_data"
    }
   ],
   "source": [
    "gmmest = []\n",
    "for ns in n:\n",
    "    gmmest += [2*np.mean(samples[ns])]\n",
    "    display(Math('\\\\hat\\\\theta_{{{}}}^{{ММ}}={}'.format(ns, 2*np.mean(samples[ns]))))"
   ]
  },
  {
   "cell_type": "markdown",
   "metadata": {},
   "source": [
    "Оценка максимального правдоподобия $\\hat\\theta^{МП}=max(x_1,...,x_n)$:"
   ]
  },
  {
   "cell_type": "code",
   "execution_count": 7,
   "metadata": {},
   "outputs": [
    {
     "data": {
      "text/latex": [
       "$\\displaystyle \\hat\\theta_{10}^{МП}=41.59590602242721$"
      ],
      "text/plain": [
       "<IPython.core.display.Math object>"
      ]
     },
     "metadata": {},
     "output_type": "display_data"
    },
    {
     "data": {
      "text/latex": [
       "$\\displaystyle \\hat\\theta_{100}^{МП}=42.214874834854335$"
      ],
      "text/plain": [
       "<IPython.core.display.Math object>"
      ]
     },
     "metadata": {},
     "output_type": "display_data"
    },
    {
     "data": {
      "text/latex": [
       "$\\displaystyle \\hat\\theta_{1000}^{МП}=42.365857366484654$"
      ],
      "text/plain": [
       "<IPython.core.display.Math object>"
      ]
     },
     "metadata": {},
     "output_type": "display_data"
    },
    {
     "data": {
      "text/latex": [
       "$\\displaystyle \\hat\\theta_{10000}^{МП}=42.4070670871936$"
      ],
      "text/plain": [
       "<IPython.core.display.Math object>"
      ]
     },
     "metadata": {},
     "output_type": "display_data"
    },
    {
     "data": {
      "text/latex": [
       "$\\displaystyle \\hat\\theta_{100000}^{МП}=42.41057469986923$"
      ],
      "text/plain": [
       "<IPython.core.display.Math object>"
      ]
     },
     "metadata": {},
     "output_type": "display_data"
    },
    {
     "data": {
      "text/latex": [
       "$\\displaystyle \\hat\\theta_{1000000}^{МП}=42.411711121971244$"
      ],
      "text/plain": [
       "<IPython.core.display.Math object>"
      ]
     },
     "metadata": {},
     "output_type": "display_data"
    }
   ],
   "source": [
    "mlest = []\n",
    "for ns in n:\n",
    "    mlest += [np.max(samples[ns])]\n",
    "    display(Math('\\\\hat\\\\theta_{{{}}}^{{МП}}={}'.format(ns, np.max(samples[ns]))))"
   ]
  },
  {
   "cell_type": "markdown",
   "metadata": {},
   "source": [
    "Оценки максимального правдоподобия с помощью метода `fit()` из `SciPy` (нам нужен результат для scale, а location мы знаем и фиксируем в 0):"
   ]
  },
  {
   "cell_type": "code",
   "execution_count": 8,
   "metadata": {},
   "outputs": [
    {
     "data": {
      "text/latex": [
       "$\\displaystyle \\hat\\theta_{10}^{МП}=41.59590602242721$"
      ],
      "text/plain": [
       "<IPython.core.display.Math object>"
      ]
     },
     "metadata": {},
     "output_type": "display_data"
    },
    {
     "data": {
      "text/latex": [
       "$\\displaystyle \\hat\\theta_{100}^{МП}=42.214874834854335$"
      ],
      "text/plain": [
       "<IPython.core.display.Math object>"
      ]
     },
     "metadata": {},
     "output_type": "display_data"
    },
    {
     "data": {
      "text/latex": [
       "$\\displaystyle \\hat\\theta_{1000}^{МП}=42.365857366484654$"
      ],
      "text/plain": [
       "<IPython.core.display.Math object>"
      ]
     },
     "metadata": {},
     "output_type": "display_data"
    },
    {
     "data": {
      "text/latex": [
       "$\\displaystyle \\hat\\theta_{10000}^{МП}=42.4070670871936$"
      ],
      "text/plain": [
       "<IPython.core.display.Math object>"
      ]
     },
     "metadata": {},
     "output_type": "display_data"
    },
    {
     "data": {
      "text/latex": [
       "$\\displaystyle \\hat\\theta_{100000}^{МП}=42.41057469986923$"
      ],
      "text/plain": [
       "<IPython.core.display.Math object>"
      ]
     },
     "metadata": {},
     "output_type": "display_data"
    },
    {
     "data": {
      "text/latex": [
       "$\\displaystyle \\hat\\theta_{1000000}^{МП}=42.411711121971244$"
      ],
      "text/plain": [
       "<IPython.core.display.Math object>"
      ]
     },
     "metadata": {},
     "output_type": "display_data"
    }
   ],
   "source": [
    "for ns in n:\n",
    "    display(Math('\\\\hat\\\\theta_{{{}}}^{{МП}}={}'.format(ns, stats.uniform.fit(samples[ns], floc=0)[1])))"
   ]
  },
  {
   "cell_type": "markdown",
   "metadata": {},
   "source": [
    "4) Отклонения полученных оценок от истинного значения $\\theta$:"
   ]
  },
  {
   "cell_type": "code",
   "execution_count": 9,
   "metadata": {},
   "outputs": [
    {
     "data": {
      "text/html": [
       "<div>\n",
       "<style scoped>\n",
       "    .dataframe tbody tr th:only-of-type {\n",
       "        vertical-align: middle;\n",
       "    }\n",
       "\n",
       "    .dataframe tbody tr th {\n",
       "        vertical-align: top;\n",
       "    }\n",
       "\n",
       "    .dataframe thead th {\n",
       "        text-align: right;\n",
       "    }\n",
       "</style>\n",
       "<table border=\"1\" class=\"dataframe\">\n",
       "  <thead>\n",
       "    <tr style=\"text-align: right;\">\n",
       "      <th></th>\n",
       "      <th>n</th>\n",
       "      <th>GMM</th>\n",
       "      <th>ML</th>\n",
       "    </tr>\n",
       "  </thead>\n",
       "  <tbody>\n",
       "    <tr>\n",
       "      <th>0</th>\n",
       "      <td>10^1</td>\n",
       "      <td>3.749142</td>\n",
       "      <td>0.815824</td>\n",
       "    </tr>\n",
       "    <tr>\n",
       "      <th>1</th>\n",
       "      <td>10^2</td>\n",
       "      <td>0.121203</td>\n",
       "      <td>0.196855</td>\n",
       "    </tr>\n",
       "    <tr>\n",
       "      <th>2</th>\n",
       "      <td>10^3</td>\n",
       "      <td>0.053182</td>\n",
       "      <td>0.045872</td>\n",
       "    </tr>\n",
       "    <tr>\n",
       "      <th>3</th>\n",
       "      <td>10^4</td>\n",
       "      <td>0.150040</td>\n",
       "      <td>0.004663</td>\n",
       "    </tr>\n",
       "    <tr>\n",
       "      <th>4</th>\n",
       "      <td>10^5</td>\n",
       "      <td>0.028959</td>\n",
       "      <td>0.001155</td>\n",
       "    </tr>\n",
       "    <tr>\n",
       "      <th>5</th>\n",
       "      <td>10^6</td>\n",
       "      <td>0.005646</td>\n",
       "      <td>0.000019</td>\n",
       "    </tr>\n",
       "  </tbody>\n",
       "</table>\n",
       "</div>"
      ],
      "text/plain": [
       "      n       GMM        ML\n",
       "0  10^1  3.749142  0.815824\n",
       "1  10^2  0.121203  0.196855\n",
       "2  10^3  0.053182  0.045872\n",
       "3  10^4  0.150040  0.004663\n",
       "4  10^5  0.028959  0.001155\n",
       "5  10^6  0.005646  0.000019"
      ]
     },
     "execution_count": 9,
     "metadata": {},
     "output_type": "execute_result"
    }
   ],
   "source": [
    "import pandas as pd\n",
    "\n",
    "estdiff = pd.DataFrame.from_dict({'n': ['10^'+str(i) for i in range(1,7)], \n",
    "                                  'GMM': [abs(i) for i in gmmest - theta], \n",
    "                                  'ML': [abs(i) for i in mlest - theta]}, \n",
    "                                 orient='columns')\n",
    "estdiff"
   ]
  },
  {
   "cell_type": "code",
   "execution_count": 10,
   "metadata": {},
   "outputs": [],
   "source": [
    "import matplotlib.pyplot as plt\n",
    "%matplotlib inline"
   ]
  },
  {
   "cell_type": "code",
   "execution_count": 11,
   "metadata": {},
   "outputs": [
    {
     "data": {
      "image/png": "[encoded data removed]",
      "text/plain": [
       "<Figure size 432x288 with 1 Axes>"
      ]
     },
     "metadata": {
      "needs_background": "light"
     },
     "output_type": "display_data"
    }
   ],
   "source": [
    "plt.figure(figsize=(6,4))\n",
    "plt.plot(estdiff['n'], estdiff['GMM'], \n",
    "         color='red',\n",
    "         label='GMM')\n",
    "plt.plot(estdiff['n'], estdiff['ML'], \n",
    "         color='blue',\n",
    "         label='ML')\n",
    "plt.title('Abs. difference bw $\\hat{\\\\theta}$ and $\\\\theta$')\n",
    "plt.xlabel('Sample size')\n",
    "plt.ylabel('Abs. difference')\n",
    "plt.legend()\n",
    "\n",
    "plt.tight_layout()\n",
    "\n",
    "plt.show()"
   ]
  },
  {
   "cell_type": "markdown",
   "metadata": {},
   "source": [
    "Видно, что отклонение уменьшается с увеличением размера выборки, причем наиболее заметное уменьшение отклонения происходит при увеличнии выборки с 10 до 100 наблюдений, затем эффект менее заметен (прежде всего, для оценки максимального правдоподобия)."
   ]
  },
  {
   "cell_type": "markdown",
   "metadata": {},
   "source": [
    "### **Задание 4**"
   ]
  },
  {
   "cell_type": "markdown",
   "metadata": {},
   "source": [
    "1) Сгенерируем $\\theta_1$ из равномерного распределения на отрезке [-5, 5], а $\\theta_2^2$ из равномерного распределения на отрезке [0.5, 10]:"
   ]
  },
  {
   "cell_type": "code",
   "execution_count": 14,
   "metadata": {},
   "outputs": [
    {
     "name": "stdout",
     "output_type": "stream",
     "text": [
      "[1.96469186] [3.21832368]\n"
     ]
    }
   ],
   "source": [
    "np.random.seed(123)\n",
    "theta1 = np.random.uniform(-5, 5, 1)\n",
    "theta2sq = np.random.uniform(0.5, 10, 1)\n",
    "print(theta1, theta2sq)"
   ]
  },
  {
   "cell_type": "markdown",
   "metadata": {},
   "source": [
    "2) Сгенерируем выборки из нормального распределения *N* $(\\theta_1, \\theta_2^2)$ разного размера:"
   ]
  },
  {
   "cell_type": "code",
   "execution_count": 15,
   "metadata": {},
   "outputs": [],
   "source": [
    "ndist = stats.norm(theta1, np.sqrt(theta2sq))\n",
    "\n",
    "n = [10**i for i in range(1,7)]\n",
    "samples = dict()\n",
    "for ns in n:\n",
    "    np.random.seed(123)\n",
    "    samples[ns] = ndist.rvs(size=ns, random_state=123)"
   ]
  },
  {
   "cell_type": "markdown",
   "metadata": {},
   "source": [
    "3) Оценки для $\\theta_1$ и $\\theta_2^2$ методом моментов и методом максимального правдоподобия будут одинаковыми: $\\hat\\theta_1=\\bar x$, $\\hat\\theta_2^2=s^2=\\frac{1}{n}\\sum\\limits_{i=1}^{n}(x_i-\\bar x)^2$:"
   ]
  },
  {
   "cell_type": "code",
   "execution_count": 22,
   "metadata": {},
   "outputs": [
    {
     "data": {
      "text/latex": [
       "$\\displaystyle (\\hat\\theta_1)_{10}=1.4811883910004748\\text{, }(\\hat\\theta_2^2)_{10}=4.919045422845212$"
      ],
      "text/plain": [
       "<IPython.core.display.Math object>"
      ]
     },
     "metadata": {},
     "output_type": "display_data"
    },
    {
     "data": {
      "text/latex": [
       "$\\displaystyle (\\hat\\theta_1)_{100}=2.013324685196379\\text{, }(\\hat\\theta_2^2)_{100}=4.096689691034853$"
      ],
      "text/plain": [
       "<IPython.core.display.Math object>"
      ]
     },
     "metadata": {},
     "output_type": "display_data"
    },
    {
     "data": {
      "text/latex": [
       "$\\displaystyle (\\hat\\theta_1)_{1000}=1.8937150343675895\\text{, }(\\hat\\theta_2^2)_{1000}=3.2233947793602793$"
      ],
      "text/plain": [
       "<IPython.core.display.Math object>"
      ]
     },
     "metadata": {},
     "output_type": "display_data"
    },
    {
     "data": {
      "text/latex": [
       "$\\displaystyle (\\hat\\theta_1)_{10000}=1.9821146867281234\\text{, }(\\hat\\theta_2^2)_{10000}=3.2061946784777864$"
      ],
      "text/plain": [
       "<IPython.core.display.Math object>"
      ]
     },
     "metadata": {},
     "output_type": "display_data"
    },
    {
     "data": {
      "text/latex": [
       "$\\displaystyle (\\hat\\theta_1)_{100000}=1.967050602213627\\text{, }(\\hat\\theta_2^2)_{100000}=3.2155576571584517$"
      ],
      "text/plain": [
       "<IPython.core.display.Math object>"
      ]
     },
     "metadata": {},
     "output_type": "display_data"
    },
    {
     "data": {
      "text/latex": [
       "$\\displaystyle (\\hat\\theta_1)_{1000000}=1.9658211616180676\\text{, }(\\hat\\theta_2^2)_{1000000}=3.219988115534855$"
      ],
      "text/plain": [
       "<IPython.core.display.Math object>"
      ]
     },
     "metadata": {},
     "output_type": "display_data"
    }
   ],
   "source": [
    "est_theta1 = []\n",
    "est_theta2sq = []\n",
    "for ns in n:\n",
    "    est_theta1 += [np.mean(samples[ns])]\n",
    "    est_theta2sq += [np.var(samples[ns])]\n",
    "    display(Math('(\\\\hat\\\\theta_1)_{{{}}}={}\\\\text{{, }}(\\\\hat\\\\theta_2^2)_{{{}}}={}'.format(ns, np.mean(samples[ns]), ns, np.var(samples[ns]))))"
   ]
  },
  {
   "cell_type": "markdown",
   "metadata": {},
   "source": [
    "Оценки максимального правдоподобия с помощью метода `fit()` из `SciPy`:"
   ]
  },
  {
   "cell_type": "code",
   "execution_count": 24,
   "metadata": {},
   "outputs": [
    {
     "data": {
      "text/latex": [
       "$\\displaystyle (\\hat\\theta_1){10}=1.4811883910004748\\text{, }(\\hat\\theta_2^2)_{10}=4.919045422845211$"
      ],
      "text/plain": [
       "<IPython.core.display.Math object>"
      ]
     },
     "metadata": {},
     "output_type": "display_data"
    },
    {
     "data": {
      "text/latex": [
       "$\\displaystyle (\\hat\\theta_1){100}=2.013324685196379\\text{, }(\\hat\\theta_2^2)_{100}=4.096689691034853$"
      ],
      "text/plain": [
       "<IPython.core.display.Math object>"
      ]
     },
     "metadata": {},
     "output_type": "display_data"
    },
    {
     "data": {
      "text/latex": [
       "$\\displaystyle (\\hat\\theta_1){1000}=1.8937150343675895\\text{, }(\\hat\\theta_2^2)_{1000}=3.2233947793602797$"
      ],
      "text/plain": [
       "<IPython.core.display.Math object>"
      ]
     },
     "metadata": {},
     "output_type": "display_data"
    },
    {
     "data": {
      "text/latex": [
       "$\\displaystyle (\\hat\\theta_1){10000}=1.9821146867281234\\text{, }(\\hat\\theta_2^2)_{10000}=3.2061946784777864$"
      ],
      "text/plain": [
       "<IPython.core.display.Math object>"
      ]
     },
     "metadata": {},
     "output_type": "display_data"
    },
    {
     "data": {
      "text/latex": [
       "$\\displaystyle (\\hat\\theta_1){100000}=1.967050602213627\\text{, }(\\hat\\theta_2^2)_{100000}=3.2155576571584517$"
      ],
      "text/plain": [
       "<IPython.core.display.Math object>"
      ]
     },
     "metadata": {},
     "output_type": "display_data"
    },
    {
     "data": {
      "text/latex": [
       "$\\displaystyle (\\hat\\theta_1){1000000}=1.9658211616180676\\text{, }(\\hat\\theta_2^2)_{1000000}=3.2199881155348553$"
      ],
      "text/plain": [
       "<IPython.core.display.Math object>"
      ]
     },
     "metadata": {},
     "output_type": "display_data"
    }
   ],
   "source": [
    "for ns in n:\n",
    "    display(Math('(\\\\hat\\\\theta_1){{{}}}={}\\\\text{{, }}(\\\\hat\\\\theta_2^2)_{{{}}}={}'.format(ns, stats.norm.fit(samples[ns])[0], ns, stats.norm.fit(samples[ns])[1]**2)))"
   ]
  },
  {
   "cell_type": "markdown",
   "metadata": {},
   "source": [
    "4) Отклонения полученных оценок от истинных значений:"
   ]
  },
  {
   "cell_type": "code",
   "execution_count": 25,
   "metadata": {},
   "outputs": [
    {
     "data": {
      "text/html": [
       "<div>\n",
       "<style scoped>\n",
       "    .dataframe tbody tr th:only-of-type {\n",
       "        vertical-align: middle;\n",
       "    }\n",
       "\n",
       "    .dataframe tbody tr th {\n",
       "        vertical-align: top;\n",
       "    }\n",
       "\n",
       "    .dataframe thead th {\n",
       "        text-align: right;\n",
       "    }\n",
       "</style>\n",
       "<table border=\"1\" class=\"dataframe\">\n",
       "  <thead>\n",
       "    <tr style=\"text-align: right;\">\n",
       "      <th></th>\n",
       "      <th>n</th>\n",
       "      <th>theta1</th>\n",
       "      <th>theta2sq</th>\n",
       "    </tr>\n",
       "  </thead>\n",
       "  <tbody>\n",
       "    <tr>\n",
       "      <th>0</th>\n",
       "      <td>10^1</td>\n",
       "      <td>0.483503</td>\n",
       "      <td>1.700722</td>\n",
       "    </tr>\n",
       "    <tr>\n",
       "      <th>1</th>\n",
       "      <td>10^2</td>\n",
       "      <td>0.048633</td>\n",
       "      <td>0.878366</td>\n",
       "    </tr>\n",
       "    <tr>\n",
       "      <th>2</th>\n",
       "      <td>10^3</td>\n",
       "      <td>0.070977</td>\n",
       "      <td>0.005071</td>\n",
       "    </tr>\n",
       "    <tr>\n",
       "      <th>3</th>\n",
       "      <td>10^4</td>\n",
       "      <td>0.017423</td>\n",
       "      <td>0.012129</td>\n",
       "    </tr>\n",
       "    <tr>\n",
       "      <th>4</th>\n",
       "      <td>10^5</td>\n",
       "      <td>0.002359</td>\n",
       "      <td>0.002766</td>\n",
       "    </tr>\n",
       "    <tr>\n",
       "      <th>5</th>\n",
       "      <td>10^6</td>\n",
       "      <td>0.001129</td>\n",
       "      <td>0.001664</td>\n",
       "    </tr>\n",
       "  </tbody>\n",
       "</table>\n",
       "</div>"
      ],
      "text/plain": [
       "      n    theta1  theta2sq\n",
       "0  10^1  0.483503  1.700722\n",
       "1  10^2  0.048633  0.878366\n",
       "2  10^3  0.070977  0.005071\n",
       "3  10^4  0.017423  0.012129\n",
       "4  10^5  0.002359  0.002766\n",
       "5  10^6  0.001129  0.001664"
      ]
     },
     "execution_count": 25,
     "metadata": {},
     "output_type": "execute_result"
    }
   ],
   "source": [
    "estdiff = pd.DataFrame.from_dict({'n': ['10^'+str(i) for i in range(1,7)], \n",
    "                                  'theta1': [abs(i) for i in est_theta1 - theta1], \n",
    "                                  'theta2sq': [abs(i) for i in est_theta2sq - theta2sq]}, \n",
    "                                 orient='columns')\n",
    "estdiff"
   ]
  },
  {
   "cell_type": "code",
   "execution_count": 26,
   "metadata": {},
   "outputs": [
    {
     "data": {
      "image/png": "[encoded data removed]",
      "text/plain": [
       "<Figure size 432x288 with 1 Axes>"
      ]
     },
     "metadata": {
      "needs_background": "light"
     },
     "output_type": "display_data"
    }
   ],
   "source": [
    "plt.figure(figsize=(6,4))\n",
    "plt.plot(estdiff['n'], estdiff['theta1'], \n",
    "         color='red',\n",
    "         label='$\\\\theta_1$')\n",
    "plt.plot(estdiff['n'], estdiff['theta2sq'], \n",
    "         color='blue',\n",
    "         label='$\\\\theta_2^2$')\n",
    "plt.title('Abs. difference bw $\\hat{\\\\theta}$ and $\\\\theta$')\n",
    "plt.xlabel('Sample size')\n",
    "plt.ylabel('Abs. difference')\n",
    "plt.legend()\n",
    "\n",
    "plt.tight_layout()\n",
    "\n",
    "plt.show()"
   ]
  },
  {
   "cell_type": "markdown",
   "metadata": {},
   "source": [
    "Видно, что отклонение уменьшается с увеличением размера выборки, причем - ожидаемо - отклонение меньше и быстрее уменьшается для среднего значения, чем для дисперсии."
   ]
  }
 ],
 "metadata": {
  "kernelspec": {
   "display_name": "Python 3 (ipykernel)",
   "language": "python",
   "name": "python3"
  },
  "language_info": {
   "codemirror_mode": {
    "name": "ipython",
    "version": 3
   },
   "file_extension": ".py",
   "mimetype": "text/x-python",
   "name": "python",
   "nbconvert_exporter": "python",
   "pygments_lexer": "ipython3",
   "version": "3.10.1"
  }
 },
 "nbformat": 4,
 "nbformat_minor": 4
}
